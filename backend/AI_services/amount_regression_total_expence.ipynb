{
 "cells": [
  {
   "cell_type": "code",
   "execution_count": 1,
   "id": "97f9c7af",
   "metadata": {},
   "outputs": [],
   "source": [
    "import pandas as pd\n",
    "import numpy as np\n",
    "from neuralforecast import NeuralForecast\n",
    "from neuralforecast.models import NBEATSx\n",
    "from neuralforecast.losses.pytorch import MQLoss\n",
    "import optuna\n",
    "from statsmodels.tsa.seasonal import STL\n",
    "from sklearn.metrics import mean_absolute_error  "
   ]
  },
  {
   "cell_type": "code",
   "execution_count": 2,
   "id": "7e881e1e",
   "metadata": {},
   "outputs": [],
   "source": [
    "\n",
    "def tune_prediction_model(df, horizon, n_trials):\n",
    "\n",
    "    df = df.copy()\n",
    "    if not pd.api.types.is_datetime64_any_dtype(df['date']):\n",
    "        df['date'] = pd.to_datetime(df['date'])\n",
    "        \n",
    "    df['date'] = pd.to_datetime(df['date'])\n",
    "    df_model = df.rename(columns={'date': 'ds', 'payment': 'y'})\n",
    "    df_model['unique_id'] = 'main_series'\n",
    "    \n",
    "    \n",
    "    def create_future_features(test_df):\n",
    "        # Create future_df from test_df dates\n",
    "        future_df = test_df[['ds']].copy()\n",
    "        future_df['unique_id'] = 'main_series'\n",
    "        \n",
    "        # Merge with test_df features\n",
    "        test_features = test_df[['ds', 'balance', 'balance_changed' ,'day_of_week_sin', 'day_of_week_cos', \n",
    "                               'is_weekend','payment_made']]\n",
    "        future_df = future_df.merge(test_features, on='ds', how='left')\n",
    "        \n",
    "        return future_df[[\n",
    "            'ds', 'unique_id', 'balance', 'balance_changed',\n",
    "            'day_of_week_sin', 'day_of_week_cos', 'is_weekend','payment_made']]\n",
    "    \n",
    "    main_df=df_model[:-horizon].copy()\n",
    "    train_df = main_df[:-horizon].copy()\n",
    "    test_df = main_df[-horizon:].copy()\n",
    "\n",
    "    #create future features to tune parameters \n",
    "    future_exog_df = create_future_features(test_df)\n",
    "\n",
    "\n",
    "    h_exog_vars = [\n",
    "        'payment_count', 'days_since_last_payment', '7day_avg_payment', '30day_avg_payment',\n",
    "        'cumulative_avg_zero_days', 'num_payments_from_start', 'payment_made', \n",
    "        'day_of_week_sin', 'day_of_week_cos', 'is_weekend', \n",
    "        'balance', 'balance_changed'\n",
    "    ]\n",
    "\n",
    "    f_exog_vars = [\n",
    "        'day_of_week_sin', 'day_of_week_cos', 'is_weekend',\n",
    "        'balance', 'balance_changed',\n",
    "        'payment_made'\n",
    "    ]\n",
    "\n",
    "    \n",
    "    def objective(trial):\n",
    "        try:\n",
    "            input_size = trial.suggest_int('input_size', 14, 42, step=7)\n",
    "            dropout_prob_theta = trial.suggest_float('dropout_prob_theta', 0.1, 0.3)\n",
    "            max_steps = trial.suggest_int('max_steps', 100, 300, step=50)\n",
    "\n",
    "            model = NBEATSx(\n",
    "                h=horizon,\n",
    "                input_size=input_size,\n",
    "                loss=MQLoss(level=[90]),\n",
    "                scaler_type='minmax',\n",
    "                dropout_prob_theta=dropout_prob_theta,\n",
    "                futr_exog_list=f_exog_vars,\n",
    "                hist_exog_list=h_exog_vars,\n",
    "                max_steps=max_steps,\n",
    "                val_check_steps=20,\n",
    "                early_stop_patience_steps=5\n",
    "            )\n",
    "\n",
    "            nf = NeuralForecast(models=[model], freq='D')\n",
    "            nf.fit(df=train_df, val_size=horizon)\n",
    "\n",
    "            Y_hat_df = nf.predict(futr_df=future_exog_df)\n",
    "            Y_hat_df['NBEATSx-median'] *= future_exog_df['payment_made'].values\n",
    "\n",
    "            # Create ground truth from validation part of train set\n",
    "            val_target = test_df['y'].values\n",
    "            pred = Y_hat_df['NBEATSx-median'].values\n",
    "\n",
    "            mae = mean_absolute_error(val_target, pred)\n",
    "\n",
    "            print(f\"Trial {trial.number}: input_size={input_size}, dropout={dropout_prob_theta:.2f}, steps={max_steps}, MAE={mae:.4f}\")\n",
    "            return mae\n",
    "        except Exception as e:\n",
    "            print(f\"Trial {trial.number} failed: {e}\")\n",
    "            return float('inf')  # Penalize failed trial\n",
    "\n",
    "    study = optuna.create_study(direction='minimize')\n",
    "    study.optimize(objective, n_trials=n_trials)\n",
    "\n",
    "    if len(study.trials) == 0 or all(t.state != optuna.trial.TrialState.COMPLETE for t in study.trials):\n",
    "        print(\"No successful trials were completed.\")\n",
    "        return {}\n",
    "\n",
    "    print(\"Best trial:\", study.best_trial)\n",
    "    return study.best_trial.params"
   ]
  },
  {
   "cell_type": "code",
   "execution_count": 11,
   "id": "a4a7ad93",
   "metadata": {},
   "outputs": [],
   "source": [
    "def train_and_predict_payment(df, best_params, horizon, balance_pred_df, classification_results_df):\n",
    "    df = df.copy()\n",
    "    if not pd.api.types.is_datetime64_any_dtype(df['date']):\n",
    "        df['date'] = pd.to_datetime(df['date'])\n",
    "\n",
    "    df['unique_id'] = 'main_series'\n",
    "    df = df.rename(columns={'date': 'ds', 'payment': 'y'})\n",
    "\n",
    "    def create_future_features(df, balance_pred_df,classification_results_df):\n",
    "        last_date = df['ds'].max()\n",
    "        future_dates = pd.date_range(start=last_date + pd.Timedelta(days=1), periods=horizon, freq='D')\n",
    "\n",
    "        future_df = pd.DataFrame({'ds': future_dates})\n",
    "        future_df['unique_id'] = 'main_series'\n",
    "\n",
    "        # Load external forecasts\n",
    "        occur_pred = classification_results_df.copy()\n",
    "        #occur_pred['date'] = pd.to_datetime(occur_pred['date']) \n",
    "        occur_pred = occur_pred.rename(columns={\n",
    "            'predicted_payment_occurence': 'payment_made',\n",
    "            'predicted_occurence_probability': 'payment_occurenc_probability'\n",
    "        })\n",
    "        occur_pred = occur_pred[['ds', 'payment_made', 'payment_occurenc_probability']]\n",
    "\n",
    "        balance_pred = balance_pred_df.copy()\n",
    "        min_v = balance_pred['Forecast'].min()\n",
    "        max_v = balance_pred['Forecast'].max()\n",
    "        balance_pred['Forecast'] = (balance_pred['Forecast'] - min_v) / (max_v - min_v) if max_v != min_v else 0\n",
    "        #balance_pred['date'] = pd.to_datetime(balance_pred['date']) \n",
    "        balance_pred = balance_pred.rename(columns={'Forecast': 'balance'})\n",
    "        balance_pred = balance_pred[['ds', 'balance']]\n",
    "\n",
    "        # Merge\n",
    "        future_df = future_df.merge(occur_pred, on='ds', how='left')\n",
    "        future_df = future_df.merge(balance_pred, on='ds', how='left')\n",
    "\n",
    "        # Add time features\n",
    "        future_df['day_of_week'] = future_df['ds'].dt.dayofweek\n",
    "        future_df['day_of_week_sin'] = np.sin(2 * np.pi * future_df['day_of_week'] / 7)\n",
    "        future_df['day_of_week_cos'] = np.cos(2 * np.pi * future_df['day_of_week'] / 7)\n",
    "        future_df['is_weekend'] = future_df['day_of_week'].isin([5, 6]).astype(int)\n",
    "\n",
    "        # Balance change features\n",
    "        future_df = future_df.sort_values('ds').reset_index(drop=True)\n",
    "        future_df['balance_changed'] = (future_df['balance'] != future_df['balance'].shift(1)).astype(int)\n",
    "        future_df['balance_changed'] = future_df['balance_changed'].fillna(0)\n",
    "\n",
    "        future_df['payment_made'] = future_df['payment_made'].fillna(0)\n",
    "        future_df['payment_occurenc_probability'] = future_df['payment_occurenc_probability'].fillna(0)\n",
    "        future_df['balance'] = future_df['balance'].fillna(method='ffill').fillna(0)\n",
    "\n",
    "\n",
    "        \n",
    "\n",
    "        return future_df[[\n",
    "            'ds', 'unique_id', 'balance', 'balance_changed',\n",
    "            'day_of_week_sin', 'day_of_week_cos', 'is_weekend', 'payment_made', 'payment_occurenc_probability'\n",
    "        ]]\n",
    "\n",
    "    amount_train_df = df[:-horizon].copy()\n",
    "\n",
    "    future_exog_df = create_future_features(amount_train_df, balance_pred_df, classification_results_df)\n",
    "\n",
    "    h_exog_vars = [\n",
    "        'payment_count', 'days_since_last_payment', '7day_avg_payment', '30day_avg_payment',\n",
    "        'cumulative_avg_zero_days', 'num_payments_from_start', 'payment_made',\n",
    "        'day_of_week_sin', 'day_of_week_cos', 'is_weekend',\n",
    "        'balance', 'balance_changed'\n",
    "    ]\n",
    "\n",
    "    f_exog_vars = [\n",
    "        'day_of_week_sin', 'day_of_week_cos', 'is_weekend',\n",
    "        'balance', 'balance_changed', 'payment_made'\n",
    "    ]\n",
    "\n",
    "    model = NBEATSx(\n",
    "        h=horizon,\n",
    "        input_size=best_params['input_size'],\n",
    "        loss=MQLoss(level=[90]),\n",
    "        scaler_type='minmax',\n",
    "        dropout_prob_theta=best_params['dropout_prob_theta'],\n",
    "        futr_exog_list=f_exog_vars,\n",
    "        hist_exog_list=h_exog_vars,\n",
    "        max_steps=best_params['max_steps'],\n",
    "        val_check_steps=20,\n",
    "        early_stop_patience_steps=5\n",
    "    )\n",
    "\n",
    "    nf = NeuralForecast(models=[model], freq='D')\n",
    "    nf.fit(df=amount_train_df, val_size=horizon)\n",
    "\n",
    "    amount_Y_hat_df = nf.predict(futr_df=future_exog_df)\n",
    "    amount_Y_hat_df['NBEATSx-median'] *= future_exog_df['payment_made'].values\n",
    "    amount_Y_hat_df['NBEATSx-hi-90'] *= future_exog_df['payment_made'].values\n",
    "    amount_Y_hat_df['NBEATSx-lo-90'] *= future_exog_df['payment_made'].values\n",
    "\n",
    "    final_regression_result = amount_Y_hat_df[['ds', 'NBEATSx-median', 'NBEATSx-lo-90', 'NBEATSx-hi-90']].copy()\n",
    "    final_regression_result['uncertainty_range'] = (\n",
    "        final_regression_result['NBEATSx-hi-90'] - final_regression_result['NBEATSx-lo-90']\n",
    "    )\n",
    "    epsilon = 1e-6\n",
    "    final_regression_result['uncertainty_percent'] = (\n",
    "        final_regression_result['uncertainty_range'] / (final_regression_result['NBEATSx-median'] + epsilon)\n",
    "    ) * 100\n",
    "\n",
    "    series = final_regression_result['NBEATSx-median']\n",
    "    series.index = pd.to_datetime(final_regression_result['ds'])\n",
    "    stl = STL(series, period=7)\n",
    "    result = stl.fit()\n",
    "    final_regression_result['trend'] = result.trend.values\n",
    "    final_regression_result['seasonal'] = result.seasonal.values\n",
    "    final_regression_result['residual'] = result.resid.values\n",
    "\n",
    "    final_regression_result['occurence'] = future_exog_df['payment_made']\n",
    "    final_regression_result['probability'] = future_exog_df['payment_occurenc_probability']\n",
    "\n",
    "    def get_top_correlation_features(train_data, target_col, future_features, historical_features, top_k=3):\n",
    "        feature_importance = {}\n",
    "        for feature in future_features + historical_features:\n",
    "            if feature in train_data.columns:\n",
    "                try:\n",
    "                    x = train_data[feature].values\n",
    "                    y = train_data[target_col].values\n",
    "                    if np.std(x) == 0 or np.std(y) == 0:\n",
    "                        feature_importance[feature] = 0.0\n",
    "                    else:\n",
    "                        corr = np.corrcoef(x, y)[0, 1]\n",
    "                        feature_importance[feature] = round(np.abs(corr), 2) if not np.isnan(corr) else 0.0\n",
    "                except Exception:\n",
    "                    feature_importance[feature] = 0.0\n",
    "        sorted_features = sorted(feature_importance.items(), key=lambda x: x[1], reverse=True)\n",
    "        return sorted_features[:top_k]\n",
    "\n",
    "    top_features = get_top_correlation_features(\n",
    "        train_data=df,\n",
    "        target_col='y',\n",
    "        future_features=h_exog_vars,\n",
    "        historical_features=f_exog_vars,\n",
    "        top_k=5\n",
    "    )\n",
    "\n",
    "    return final_regression_result, top_features"
   ]
  },
  {
   "cell_type": "code",
   "execution_count": 4,
   "id": "8226c9c9",
   "metadata": {},
   "outputs": [
    {
     "name": "stderr",
     "output_type": "stream",
     "text": [
      "[I 2025-07-12 11:43:27,063] A new study created in memory with name: no-name-24eda479-dc12-4ade-abe1-ac99b1e599eb\n",
      "Seed set to 1\n",
      "GPU available: False, used: False\n",
      "TPU available: False, using: 0 TPU cores\n",
      "IPU available: False, using: 0 IPUs\n",
      "HPU available: False, using: 0 HPUs\n",
      "\n",
      "  | Name         | Type          | Params\n",
      "-----------------------------------------------\n",
      "0 | loss         | MQLoss        | 3     \n",
      "1 | padder_train | ConstantPad1d | 0     \n",
      "2 | scaler       | TemporalNorm  | 0     \n",
      "3 | blocks       | ModuleList    | 3.6 M \n",
      "-----------------------------------------------\n",
      "3.6 M     Trainable params\n",
      "3.5 K     Non-trainable params\n",
      "3.6 M     Total params\n",
      "14.593    Total estimated model params size (MB)\n"
     ]
    },
    {
     "data": {
      "application/vnd.jupyter.widget-view+json": {
       "model_id": "95e37228286240c3a07e510465c6c511",
       "version_major": 2,
       "version_minor": 0
      },
      "text/plain": [
       "Sanity Checking: |          | 0/? [00:00<?, ?it/s]"
      ]
     },
     "metadata": {},
     "output_type": "display_data"
    },
    {
     "data": {
      "application/vnd.jupyter.widget-view+json": {
       "model_id": "247ccb46ffb74943bf3579faa79ef0c8",
       "version_major": 2,
       "version_minor": 0
      },
      "text/plain": [
       "Training: |          | 0/? [00:00<?, ?it/s]"
      ]
     },
     "metadata": {},
     "output_type": "display_data"
    },
    {
     "data": {
      "application/vnd.jupyter.widget-view+json": {
       "model_id": "d2ee37433ade4d3eba3ed0a63c0b173e",
       "version_major": 2,
       "version_minor": 0
      },
      "text/plain": [
       "Validation: |          | 0/? [00:00<?, ?it/s]"
      ]
     },
     "metadata": {},
     "output_type": "display_data"
    },
    {
     "data": {
      "application/vnd.jupyter.widget-view+json": {
       "model_id": "8feb9003e3b048babc41233ead51696f",
       "version_major": 2,
       "version_minor": 0
      },
      "text/plain": [
       "Validation: |          | 0/? [00:00<?, ?it/s]"
      ]
     },
     "metadata": {},
     "output_type": "display_data"
    },
    {
     "data": {
      "application/vnd.jupyter.widget-view+json": {
       "model_id": "8ad9196f272a4fa7850d23f6595514b0",
       "version_major": 2,
       "version_minor": 0
      },
      "text/plain": [
       "Validation: |          | 0/? [00:00<?, ?it/s]"
      ]
     },
     "metadata": {},
     "output_type": "display_data"
    },
    {
     "data": {
      "application/vnd.jupyter.widget-view+json": {
       "model_id": "437f5cd2dd844a119fef335906f262cb",
       "version_major": 2,
       "version_minor": 0
      },
      "text/plain": [
       "Validation: |          | 0/? [00:00<?, ?it/s]"
      ]
     },
     "metadata": {},
     "output_type": "display_data"
    },
    {
     "data": {
      "application/vnd.jupyter.widget-view+json": {
       "model_id": "c4b1b9fad82747869c6051e9103c33d5",
       "version_major": 2,
       "version_minor": 0
      },
      "text/plain": [
       "Validation: |          | 0/? [00:00<?, ?it/s]"
      ]
     },
     "metadata": {},
     "output_type": "display_data"
    },
    {
     "data": {
      "application/vnd.jupyter.widget-view+json": {
       "model_id": "c525722ec4024abbbec10ffc30930a69",
       "version_major": 2,
       "version_minor": 0
      },
      "text/plain": [
       "Validation: |          | 0/? [00:00<?, ?it/s]"
      ]
     },
     "metadata": {},
     "output_type": "display_data"
    },
    {
     "data": {
      "application/vnd.jupyter.widget-view+json": {
       "model_id": "266749d256084f34accad928e227c391",
       "version_major": 2,
       "version_minor": 0
      },
      "text/plain": [
       "Validation: |          | 0/? [00:00<?, ?it/s]"
      ]
     },
     "metadata": {},
     "output_type": "display_data"
    },
    {
     "data": {
      "application/vnd.jupyter.widget-view+json": {
       "model_id": "df1c537dfd03420297a14fb257b9aad8",
       "version_major": 2,
       "version_minor": 0
      },
      "text/plain": [
       "Validation: |          | 0/? [00:00<?, ?it/s]"
      ]
     },
     "metadata": {},
     "output_type": "display_data"
    },
    {
     "data": {
      "application/vnd.jupyter.widget-view+json": {
       "model_id": "6817a09897834a39bb8a0efd81f9d2c0",
       "version_major": 2,
       "version_minor": 0
      },
      "text/plain": [
       "Validation: |          | 0/? [00:00<?, ?it/s]"
      ]
     },
     "metadata": {},
     "output_type": "display_data"
    },
    {
     "data": {
      "application/vnd.jupyter.widget-view+json": {
       "model_id": "c24ffafe4e6d428aa2bf1a79389bfd58",
       "version_major": 2,
       "version_minor": 0
      },
      "text/plain": [
       "Validation: |          | 0/? [00:00<?, ?it/s]"
      ]
     },
     "metadata": {},
     "output_type": "display_data"
    },
    {
     "name": "stderr",
     "output_type": "stream",
     "text": [
      "`Trainer.fit` stopped: `max_steps=200` reached.\n",
      "Trainer already configured with model summary callbacks: [<class 'pytorch_lightning.callbacks.model_summary.ModelSummary'>]. Skipping setting a default `ModelSummary` callback.\n",
      "GPU available: False, used: False\n",
      "TPU available: False, using: 0 TPU cores\n",
      "IPU available: False, using: 0 IPUs\n",
      "HPU available: False, using: 0 HPUs\n"
     ]
    },
    {
     "data": {
      "application/vnd.jupyter.widget-view+json": {
       "model_id": "974d5608c9614454b6c25696f2c25cab",
       "version_major": 2,
       "version_minor": 0
      },
      "text/plain": [
       "Predicting: |          | 0/? [00:00<?, ?it/s]"
      ]
     },
     "metadata": {},
     "output_type": "display_data"
    },
    {
     "name": "stderr",
     "output_type": "stream",
     "text": [
      "[I 2025-07-12 11:44:51,533] Trial 0 finished with value: 257.33853059895836 and parameters: {'input_size': 28, 'dropout_prob_theta': 0.15453335388995676, 'max_steps': 200}. Best is trial 0 with value: 257.33853059895836.\n",
      "Seed set to 1\n"
     ]
    },
    {
     "name": "stdout",
     "output_type": "stream",
     "text": [
      "Trial 0: input_size=28, dropout=0.15, steps=200, MAE=257.3385\n"
     ]
    },
    {
     "name": "stderr",
     "output_type": "stream",
     "text": [
      "GPU available: False, used: False\n",
      "TPU available: False, using: 0 TPU cores\n",
      "IPU available: False, using: 0 IPUs\n",
      "HPU available: False, using: 0 HPUs\n",
      "\n",
      "  | Name         | Type          | Params\n",
      "-----------------------------------------------\n",
      "0 | loss         | MQLoss        | 3     \n",
      "1 | padder_train | ConstantPad1d | 0     \n",
      "2 | scaler       | TemporalNorm  | 0     \n",
      "3 | blocks       | ModuleList    | 3.9 M \n",
      "-----------------------------------------------\n",
      "3.9 M     Trainable params\n",
      "4.0 K     Non-trainable params\n",
      "3.9 M     Total params\n",
      "15.426    Total estimated model params size (MB)\n"
     ]
    },
    {
     "data": {
      "application/vnd.jupyter.widget-view+json": {
       "model_id": "e70b7b66712448c9a11c4bd61d67b0e1",
       "version_major": 2,
       "version_minor": 0
      },
      "text/plain": [
       "Sanity Checking: |          | 0/? [00:00<?, ?it/s]"
      ]
     },
     "metadata": {},
     "output_type": "display_data"
    },
    {
     "data": {
      "application/vnd.jupyter.widget-view+json": {
       "model_id": "4a257145d3114203b1a3e5c5cd2fe3db",
       "version_major": 2,
       "version_minor": 0
      },
      "text/plain": [
       "Training: |          | 0/? [00:00<?, ?it/s]"
      ]
     },
     "metadata": {},
     "output_type": "display_data"
    },
    {
     "data": {
      "application/vnd.jupyter.widget-view+json": {
       "model_id": "373b33b65176442e87715f0327f534c8",
       "version_major": 2,
       "version_minor": 0
      },
      "text/plain": [
       "Validation: |          | 0/? [00:00<?, ?it/s]"
      ]
     },
     "metadata": {},
     "output_type": "display_data"
    },
    {
     "data": {
      "application/vnd.jupyter.widget-view+json": {
       "model_id": "7ac9fdccc7f04284ba41155233ce77bc",
       "version_major": 2,
       "version_minor": 0
      },
      "text/plain": [
       "Validation: |          | 0/? [00:00<?, ?it/s]"
      ]
     },
     "metadata": {},
     "output_type": "display_data"
    },
    {
     "data": {
      "application/vnd.jupyter.widget-view+json": {
       "model_id": "2d9ff6a3efd04a459a906f55a9e962c4",
       "version_major": 2,
       "version_minor": 0
      },
      "text/plain": [
       "Validation: |          | 0/? [00:00<?, ?it/s]"
      ]
     },
     "metadata": {},
     "output_type": "display_data"
    },
    {
     "data": {
      "application/vnd.jupyter.widget-view+json": {
       "model_id": "4da2e392125740dd80c6d8954b4469a2",
       "version_major": 2,
       "version_minor": 0
      },
      "text/plain": [
       "Validation: |          | 0/? [00:00<?, ?it/s]"
      ]
     },
     "metadata": {},
     "output_type": "display_data"
    },
    {
     "data": {
      "application/vnd.jupyter.widget-view+json": {
       "model_id": "c72e4c9cc8b94e2ba2690294370d96d7",
       "version_major": 2,
       "version_minor": 0
      },
      "text/plain": [
       "Validation: |          | 0/? [00:00<?, ?it/s]"
      ]
     },
     "metadata": {},
     "output_type": "display_data"
    },
    {
     "name": "stderr",
     "output_type": "stream",
     "text": [
      "`Trainer.fit` stopped: `max_steps=100` reached.\n",
      "Trainer already configured with model summary callbacks: [<class 'pytorch_lightning.callbacks.model_summary.ModelSummary'>]. Skipping setting a default `ModelSummary` callback.\n",
      "GPU available: False, used: False\n",
      "TPU available: False, using: 0 TPU cores\n",
      "IPU available: False, using: 0 IPUs\n",
      "HPU available: False, using: 0 HPUs\n"
     ]
    },
    {
     "data": {
      "application/vnd.jupyter.widget-view+json": {
       "model_id": "2a765ff2aad948b6b0a586dca9175066",
       "version_major": 2,
       "version_minor": 0
      },
      "text/plain": [
       "Predicting: |          | 0/? [00:00<?, ?it/s]"
      ]
     },
     "metadata": {},
     "output_type": "display_data"
    },
    {
     "name": "stderr",
     "output_type": "stream",
     "text": [
      "[I 2025-07-12 11:45:26,381] Trial 1 finished with value: 328.9357761332194 and parameters: {'input_size': 35, 'dropout_prob_theta': 0.18866214153498523, 'max_steps': 100}. Best is trial 0 with value: 257.33853059895836.\n",
      "Seed set to 1\n"
     ]
    },
    {
     "name": "stdout",
     "output_type": "stream",
     "text": [
      "Trial 1: input_size=35, dropout=0.19, steps=100, MAE=328.9358\n"
     ]
    },
    {
     "name": "stderr",
     "output_type": "stream",
     "text": [
      "GPU available: False, used: False\n",
      "TPU available: False, using: 0 TPU cores\n",
      "IPU available: False, using: 0 IPUs\n",
      "HPU available: False, using: 0 HPUs\n",
      "\n",
      "  | Name         | Type          | Params\n",
      "-----------------------------------------------\n",
      "0 | loss         | MQLoss        | 3     \n",
      "1 | padder_train | ConstantPad1d | 0     \n",
      "2 | scaler       | TemporalNorm  | 0     \n",
      "3 | blocks       | ModuleList    | 4.1 M \n",
      "-----------------------------------------------\n",
      "4.1 M     Trainable params\n",
      "4.4 K     Non-trainable params\n",
      "4.1 M     Total params\n",
      "16.260    Total estimated model params size (MB)\n"
     ]
    },
    {
     "data": {
      "application/vnd.jupyter.widget-view+json": {
       "model_id": "0d99599c7c4a425dac7df251a538b0e8",
       "version_major": 2,
       "version_minor": 0
      },
      "text/plain": [
       "Sanity Checking: |          | 0/? [00:00<?, ?it/s]"
      ]
     },
     "metadata": {},
     "output_type": "display_data"
    },
    {
     "data": {
      "application/vnd.jupyter.widget-view+json": {
       "model_id": "36cf19ba9022482387549cd3f4f42f13",
       "version_major": 2,
       "version_minor": 0
      },
      "text/plain": [
       "Training: |          | 0/? [00:00<?, ?it/s]"
      ]
     },
     "metadata": {},
     "output_type": "display_data"
    },
    {
     "data": {
      "application/vnd.jupyter.widget-view+json": {
       "model_id": "d2968a28349c4fad8feef6b756be43c7",
       "version_major": 2,
       "version_minor": 0
      },
      "text/plain": [
       "Validation: |          | 0/? [00:00<?, ?it/s]"
      ]
     },
     "metadata": {},
     "output_type": "display_data"
    },
    {
     "data": {
      "application/vnd.jupyter.widget-view+json": {
       "model_id": "1231ef17cc1b4ef482be151ce271d6c9",
       "version_major": 2,
       "version_minor": 0
      },
      "text/plain": [
       "Validation: |          | 0/? [00:00<?, ?it/s]"
      ]
     },
     "metadata": {},
     "output_type": "display_data"
    },
    {
     "data": {
      "application/vnd.jupyter.widget-view+json": {
       "model_id": "b7d59165fa0d41228de124411be04ec7",
       "version_major": 2,
       "version_minor": 0
      },
      "text/plain": [
       "Validation: |          | 0/? [00:00<?, ?it/s]"
      ]
     },
     "metadata": {},
     "output_type": "display_data"
    },
    {
     "data": {
      "application/vnd.jupyter.widget-view+json": {
       "model_id": "4eb7c6531b4348cd8d521e086310fb73",
       "version_major": 2,
       "version_minor": 0
      },
      "text/plain": [
       "Validation: |          | 0/? [00:00<?, ?it/s]"
      ]
     },
     "metadata": {},
     "output_type": "display_data"
    },
    {
     "data": {
      "application/vnd.jupyter.widget-view+json": {
       "model_id": "c5d4e31033ad4ee29686939cd6eb856e",
       "version_major": 2,
       "version_minor": 0
      },
      "text/plain": [
       "Validation: |          | 0/? [00:00<?, ?it/s]"
      ]
     },
     "metadata": {},
     "output_type": "display_data"
    },
    {
     "name": "stderr",
     "output_type": "stream",
     "text": [
      "`Trainer.fit` stopped: `max_steps=100` reached.\n",
      "Trainer already configured with model summary callbacks: [<class 'pytorch_lightning.callbacks.model_summary.ModelSummary'>]. Skipping setting a default `ModelSummary` callback.\n",
      "GPU available: False, used: False\n",
      "TPU available: False, using: 0 TPU cores\n",
      "IPU available: False, using: 0 IPUs\n",
      "HPU available: False, using: 0 HPUs\n"
     ]
    },
    {
     "data": {
      "application/vnd.jupyter.widget-view+json": {
       "model_id": "0a135cab3c8241258d45a7e957e61544",
       "version_major": 2,
       "version_minor": 0
      },
      "text/plain": [
       "Predicting: |          | 0/? [00:00<?, ?it/s]"
      ]
     },
     "metadata": {},
     "output_type": "display_data"
    },
    {
     "name": "stderr",
     "output_type": "stream",
     "text": [
      "[I 2025-07-12 11:45:40,001] Trial 2 finished with value: 329.4515959370931 and parameters: {'input_size': 42, 'dropout_prob_theta': 0.29575054557457847, 'max_steps': 100}. Best is trial 0 with value: 257.33853059895836.\n",
      "Seed set to 1\n",
      "GPU available: False, used: False\n",
      "TPU available: False, using: 0 TPU cores\n",
      "IPU available: False, using: 0 IPUs\n",
      "HPU available: False, using: 0 HPUs\n",
      "\n",
      "  | Name         | Type          | Params\n",
      "-----------------------------------------------\n",
      "0 | loss         | MQLoss        | 3     \n",
      "1 | padder_train | ConstantPad1d | 0     \n",
      "2 | scaler       | TemporalNorm  | 0     \n",
      "3 | blocks       | ModuleList    | 3.4 M \n",
      "-----------------------------------------------\n",
      "3.4 M     Trainable params\n",
      "3.1 K     Non-trainable params\n",
      "3.4 M     Total params\n",
      "13.760    Total estimated model params size (MB)\n"
     ]
    },
    {
     "name": "stdout",
     "output_type": "stream",
     "text": [
      "Trial 2: input_size=42, dropout=0.30, steps=100, MAE=329.4516\n"
     ]
    },
    {
     "data": {
      "application/vnd.jupyter.widget-view+json": {
       "model_id": "e64749963e794972b0e5be520ffacdb2",
       "version_major": 2,
       "version_minor": 0
      },
      "text/plain": [
       "Sanity Checking: |          | 0/? [00:00<?, ?it/s]"
      ]
     },
     "metadata": {},
     "output_type": "display_data"
    },
    {
     "data": {
      "application/vnd.jupyter.widget-view+json": {
       "model_id": "81603a6171e54f1d932d55ea49e55389",
       "version_major": 2,
       "version_minor": 0
      },
      "text/plain": [
       "Training: |          | 0/? [00:00<?, ?it/s]"
      ]
     },
     "metadata": {},
     "output_type": "display_data"
    },
    {
     "data": {
      "application/vnd.jupyter.widget-view+json": {
       "model_id": "cd2ef880095849e2a8b4c81a823c3cc5",
       "version_major": 2,
       "version_minor": 0
      },
      "text/plain": [
       "Validation: |          | 0/? [00:00<?, ?it/s]"
      ]
     },
     "metadata": {},
     "output_type": "display_data"
    },
    {
     "data": {
      "application/vnd.jupyter.widget-view+json": {
       "model_id": "9f8d99164d624a719dfc243c3ff7cc12",
       "version_major": 2,
       "version_minor": 0
      },
      "text/plain": [
       "Validation: |          | 0/? [00:00<?, ?it/s]"
      ]
     },
     "metadata": {},
     "output_type": "display_data"
    },
    {
     "data": {
      "application/vnd.jupyter.widget-view+json": {
       "model_id": "b53b3770b1584423aaac60259dcf1bb1",
       "version_major": 2,
       "version_minor": 0
      },
      "text/plain": [
       "Validation: |          | 0/? [00:00<?, ?it/s]"
      ]
     },
     "metadata": {},
     "output_type": "display_data"
    },
    {
     "data": {
      "application/vnd.jupyter.widget-view+json": {
       "model_id": "d9508d4d033540b3883006d016b98018",
       "version_major": 2,
       "version_minor": 0
      },
      "text/plain": [
       "Validation: |          | 0/? [00:00<?, ?it/s]"
      ]
     },
     "metadata": {},
     "output_type": "display_data"
    },
    {
     "data": {
      "application/vnd.jupyter.widget-view+json": {
       "model_id": "32230a8f71b5462dbf270bc6efe60940",
       "version_major": 2,
       "version_minor": 0
      },
      "text/plain": [
       "Validation: |          | 0/? [00:00<?, ?it/s]"
      ]
     },
     "metadata": {},
     "output_type": "display_data"
    },
    {
     "data": {
      "application/vnd.jupyter.widget-view+json": {
       "model_id": "cc260b1e9ae64b8c92de2530739d2266",
       "version_major": 2,
       "version_minor": 0
      },
      "text/plain": [
       "Validation: |          | 0/? [00:00<?, ?it/s]"
      ]
     },
     "metadata": {},
     "output_type": "display_data"
    },
    {
     "data": {
      "application/vnd.jupyter.widget-view+json": {
       "model_id": "daa9aec605154499996de651c55e8ab3",
       "version_major": 2,
       "version_minor": 0
      },
      "text/plain": [
       "Validation: |          | 0/? [00:00<?, ?it/s]"
      ]
     },
     "metadata": {},
     "output_type": "display_data"
    },
    {
     "name": "stderr",
     "output_type": "stream",
     "text": [
      "Trainer already configured with model summary callbacks: [<class 'pytorch_lightning.callbacks.model_summary.ModelSummary'>]. Skipping setting a default `ModelSummary` callback.\n",
      "GPU available: False, used: False\n",
      "TPU available: False, using: 0 TPU cores\n",
      "IPU available: False, using: 0 IPUs\n",
      "HPU available: False, using: 0 HPUs\n"
     ]
    },
    {
     "data": {
      "application/vnd.jupyter.widget-view+json": {
       "model_id": "162c5f2aa3a84dc5827641523d75f530",
       "version_major": 2,
       "version_minor": 0
      },
      "text/plain": [
       "Predicting: |          | 0/? [00:00<?, ?it/s]"
      ]
     },
     "metadata": {},
     "output_type": "display_data"
    },
    {
     "name": "stderr",
     "output_type": "stream",
     "text": [
      "[I 2025-07-12 11:46:21,474] Trial 3 finished with value: 294.0886486002604 and parameters: {'input_size': 21, 'dropout_prob_theta': 0.24872995578278637, 'max_steps': 200}. Best is trial 0 with value: 257.33853059895836.\n",
      "Seed set to 1\n",
      "GPU available: False, used: False\n",
      "TPU available: False, using: 0 TPU cores\n",
      "IPU available: False, using: 0 IPUs\n",
      "HPU available: False, using: 0 HPUs\n",
      "\n",
      "  | Name         | Type          | Params\n",
      "-----------------------------------------------\n",
      "0 | loss         | MQLoss        | 3     \n",
      "1 | padder_train | ConstantPad1d | 0     \n",
      "2 | scaler       | TemporalNorm  | 0     \n",
      "3 | blocks       | ModuleList    | 3.9 M \n",
      "-----------------------------------------------\n",
      "3.9 M     Trainable params\n",
      "4.0 K     Non-trainable params\n",
      "3.9 M     Total params\n",
      "15.426    Total estimated model params size (MB)\n"
     ]
    },
    {
     "name": "stdout",
     "output_type": "stream",
     "text": [
      "Trial 3: input_size=21, dropout=0.25, steps=200, MAE=294.0886\n"
     ]
    },
    {
     "data": {
      "application/vnd.jupyter.widget-view+json": {
       "model_id": "4e97b6554a0c45778f85465df5577edc",
       "version_major": 2,
       "version_minor": 0
      },
      "text/plain": [
       "Sanity Checking: |          | 0/? [00:00<?, ?it/s]"
      ]
     },
     "metadata": {},
     "output_type": "display_data"
    },
    {
     "data": {
      "application/vnd.jupyter.widget-view+json": {
       "model_id": "670781da0d07460f903deb0d5e169231",
       "version_major": 2,
       "version_minor": 0
      },
      "text/plain": [
       "Training: |          | 0/? [00:00<?, ?it/s]"
      ]
     },
     "metadata": {},
     "output_type": "display_data"
    },
    {
     "data": {
      "application/vnd.jupyter.widget-view+json": {
       "model_id": "7b00739b6b4740a49686e84fcaf54b61",
       "version_major": 2,
       "version_minor": 0
      },
      "text/plain": [
       "Validation: |          | 0/? [00:00<?, ?it/s]"
      ]
     },
     "metadata": {},
     "output_type": "display_data"
    },
    {
     "data": {
      "application/vnd.jupyter.widget-view+json": {
       "model_id": "c200ac61e4db4507afff107e3151cb9f",
       "version_major": 2,
       "version_minor": 0
      },
      "text/plain": [
       "Validation: |          | 0/? [00:00<?, ?it/s]"
      ]
     },
     "metadata": {},
     "output_type": "display_data"
    },
    {
     "data": {
      "application/vnd.jupyter.widget-view+json": {
       "model_id": "6708be3e0e524a77a4757f045a2efa62",
       "version_major": 2,
       "version_minor": 0
      },
      "text/plain": [
       "Validation: |          | 0/? [00:00<?, ?it/s]"
      ]
     },
     "metadata": {},
     "output_type": "display_data"
    },
    {
     "data": {
      "application/vnd.jupyter.widget-view+json": {
       "model_id": "9afce3dc2d7e442bbac672c99db32bd2",
       "version_major": 2,
       "version_minor": 0
      },
      "text/plain": [
       "Validation: |          | 0/? [00:00<?, ?it/s]"
      ]
     },
     "metadata": {},
     "output_type": "display_data"
    },
    {
     "data": {
      "application/vnd.jupyter.widget-view+json": {
       "model_id": "fd206b11b1d745d99e0ab205dfbc69f7",
       "version_major": 2,
       "version_minor": 0
      },
      "text/plain": [
       "Validation: |          | 0/? [00:00<?, ?it/s]"
      ]
     },
     "metadata": {},
     "output_type": "display_data"
    },
    {
     "data": {
      "application/vnd.jupyter.widget-view+json": {
       "model_id": "dbeb81a82b524ba58f699c84379f373f",
       "version_major": 2,
       "version_minor": 0
      },
      "text/plain": [
       "Validation: |          | 0/? [00:00<?, ?it/s]"
      ]
     },
     "metadata": {},
     "output_type": "display_data"
    },
    {
     "data": {
      "application/vnd.jupyter.widget-view+json": {
       "model_id": "4269caec7a7844a4ba95f405f1dc4a9e",
       "version_major": 2,
       "version_minor": 0
      },
      "text/plain": [
       "Validation: |          | 0/? [00:00<?, ?it/s]"
      ]
     },
     "metadata": {},
     "output_type": "display_data"
    },
    {
     "data": {
      "application/vnd.jupyter.widget-view+json": {
       "model_id": "98afe5b35aa9471aa72ae574e9a15334",
       "version_major": 2,
       "version_minor": 0
      },
      "text/plain": [
       "Validation: |          | 0/? [00:00<?, ?it/s]"
      ]
     },
     "metadata": {},
     "output_type": "display_data"
    },
    {
     "data": {
      "application/vnd.jupyter.widget-view+json": {
       "model_id": "2b714aa9879a42ecbdc2d5a868b4e955",
       "version_major": 2,
       "version_minor": 0
      },
      "text/plain": [
       "Validation: |          | 0/? [00:00<?, ?it/s]"
      ]
     },
     "metadata": {},
     "output_type": "display_data"
    },
    {
     "data": {
      "application/vnd.jupyter.widget-view+json": {
       "model_id": "d92baadf15cb4555a06e348cfdf5607e",
       "version_major": 2,
       "version_minor": 0
      },
      "text/plain": [
       "Validation: |          | 0/? [00:00<?, ?it/s]"
      ]
     },
     "metadata": {},
     "output_type": "display_data"
    },
    {
     "name": "stderr",
     "output_type": "stream",
     "text": [
      "`Trainer.fit` stopped: `max_steps=200` reached.\n",
      "Trainer already configured with model summary callbacks: [<class 'pytorch_lightning.callbacks.model_summary.ModelSummary'>]. Skipping setting a default `ModelSummary` callback.\n",
      "GPU available: False, used: False\n",
      "TPU available: False, using: 0 TPU cores\n",
      "IPU available: False, using: 0 IPUs\n",
      "HPU available: False, using: 0 HPUs\n"
     ]
    },
    {
     "data": {
      "application/vnd.jupyter.widget-view+json": {
       "model_id": "b40c017d5ce846c78f9bd72f450d906d",
       "version_major": 2,
       "version_minor": 0
      },
      "text/plain": [
       "Predicting: |          | 0/? [00:00<?, ?it/s]"
      ]
     },
     "metadata": {},
     "output_type": "display_data"
    },
    {
     "name": "stderr",
     "output_type": "stream",
     "text": [
      "[I 2025-07-12 11:46:43,379] Trial 4 finished with value: 278.4719651489258 and parameters: {'input_size': 35, 'dropout_prob_theta': 0.16725657328426152, 'max_steps': 200}. Best is trial 0 with value: 257.33853059895836.\n",
      "Seed set to 1\n",
      "GPU available: False, used: False\n",
      "TPU available: False, using: 0 TPU cores\n",
      "IPU available: False, using: 0 IPUs\n",
      "HPU available: False, using: 0 HPUs\n",
      "\n",
      "  | Name         | Type          | Params\n",
      "-----------------------------------------------\n",
      "0 | loss         | MQLoss        | 3     \n",
      "1 | padder_train | ConstantPad1d | 0     \n",
      "2 | scaler       | TemporalNorm  | 0     \n",
      "3 | blocks       | ModuleList    | 3.9 M \n",
      "-----------------------------------------------\n",
      "3.9 M     Trainable params\n",
      "4.0 K     Non-trainable params\n",
      "3.9 M     Total params\n",
      "15.426    Total estimated model params size (MB)\n"
     ]
    },
    {
     "name": "stdout",
     "output_type": "stream",
     "text": [
      "Trial 4: input_size=35, dropout=0.17, steps=200, MAE=278.4720\n"
     ]
    },
    {
     "data": {
      "application/vnd.jupyter.widget-view+json": {
       "model_id": "229437ba69e74149ab346a3877f12cba",
       "version_major": 2,
       "version_minor": 0
      },
      "text/plain": [
       "Sanity Checking: |          | 0/? [00:00<?, ?it/s]"
      ]
     },
     "metadata": {},
     "output_type": "display_data"
    },
    {
     "data": {
      "application/vnd.jupyter.widget-view+json": {
       "model_id": "ffa47bbda78e418787b97464bb913942",
       "version_major": 2,
       "version_minor": 0
      },
      "text/plain": [
       "Training: |          | 0/? [00:00<?, ?it/s]"
      ]
     },
     "metadata": {},
     "output_type": "display_data"
    },
    {
     "data": {
      "application/vnd.jupyter.widget-view+json": {
       "model_id": "56617376e0b343078aab31a13759c16a",
       "version_major": 2,
       "version_minor": 0
      },
      "text/plain": [
       "Validation: |          | 0/? [00:00<?, ?it/s]"
      ]
     },
     "metadata": {},
     "output_type": "display_data"
    },
    {
     "data": {
      "application/vnd.jupyter.widget-view+json": {
       "model_id": "03bd5013ce874429b30dc3e2444fffcd",
       "version_major": 2,
       "version_minor": 0
      },
      "text/plain": [
       "Validation: |          | 0/? [00:00<?, ?it/s]"
      ]
     },
     "metadata": {},
     "output_type": "display_data"
    },
    {
     "data": {
      "application/vnd.jupyter.widget-view+json": {
       "model_id": "d51e52cadc164950ab66f00bb71576b5",
       "version_major": 2,
       "version_minor": 0
      },
      "text/plain": [
       "Validation: |          | 0/? [00:00<?, ?it/s]"
      ]
     },
     "metadata": {},
     "output_type": "display_data"
    },
    {
     "data": {
      "application/vnd.jupyter.widget-view+json": {
       "model_id": "1c65d77803c44f0998fe3c4a4080878a",
       "version_major": 2,
       "version_minor": 0
      },
      "text/plain": [
       "Validation: |          | 0/? [00:00<?, ?it/s]"
      ]
     },
     "metadata": {},
     "output_type": "display_data"
    },
    {
     "data": {
      "application/vnd.jupyter.widget-view+json": {
       "model_id": "796e35a3b47c4378a0022527503d7b66",
       "version_major": 2,
       "version_minor": 0
      },
      "text/plain": [
       "Validation: |          | 0/? [00:00<?, ?it/s]"
      ]
     },
     "metadata": {},
     "output_type": "display_data"
    },
    {
     "data": {
      "application/vnd.jupyter.widget-view+json": {
       "model_id": "c2aa02cbd9e948f8b96d613d2848b2e2",
       "version_major": 2,
       "version_minor": 0
      },
      "text/plain": [
       "Validation: |          | 0/? [00:00<?, ?it/s]"
      ]
     },
     "metadata": {},
     "output_type": "display_data"
    },
    {
     "data": {
      "application/vnd.jupyter.widget-view+json": {
       "model_id": "bc42bfa294ee42698a84b3fbc8962368",
       "version_major": 2,
       "version_minor": 0
      },
      "text/plain": [
       "Validation: |          | 0/? [00:00<?, ?it/s]"
      ]
     },
     "metadata": {},
     "output_type": "display_data"
    },
    {
     "data": {
      "application/vnd.jupyter.widget-view+json": {
       "model_id": "760c2fcdd107436b8851e03628134031",
       "version_major": 2,
       "version_minor": 0
      },
      "text/plain": [
       "Validation: |          | 0/? [00:00<?, ?it/s]"
      ]
     },
     "metadata": {},
     "output_type": "display_data"
    },
    {
     "data": {
      "application/vnd.jupyter.widget-view+json": {
       "model_id": "d316edfca0d2422f9311221dc1e12332",
       "version_major": 2,
       "version_minor": 0
      },
      "text/plain": [
       "Validation: |          | 0/? [00:00<?, ?it/s]"
      ]
     },
     "metadata": {},
     "output_type": "display_data"
    },
    {
     "data": {
      "application/vnd.jupyter.widget-view+json": {
       "model_id": "2e73fcf8be7d4c2a873ba1559ec1f7c7",
       "version_major": 2,
       "version_minor": 0
      },
      "text/plain": [
       "Validation: |          | 0/? [00:00<?, ?it/s]"
      ]
     },
     "metadata": {},
     "output_type": "display_data"
    },
    {
     "data": {
      "application/vnd.jupyter.widget-view+json": {
       "model_id": "bc5e590dc37a459fbc9eb147dd64439d",
       "version_major": 2,
       "version_minor": 0
      },
      "text/plain": [
       "Validation: |          | 0/? [00:00<?, ?it/s]"
      ]
     },
     "metadata": {},
     "output_type": "display_data"
    },
    {
     "data": {
      "application/vnd.jupyter.widget-view+json": {
       "model_id": "0af2fcfa981543178d0c95f421ffda62",
       "version_major": 2,
       "version_minor": 0
      },
      "text/plain": [
       "Validation: |          | 0/? [00:00<?, ?it/s]"
      ]
     },
     "metadata": {},
     "output_type": "display_data"
    },
    {
     "data": {
      "application/vnd.jupyter.widget-view+json": {
       "model_id": "98be92ceeec846439e1d3e9ce2dfe8a1",
       "version_major": 2,
       "version_minor": 0
      },
      "text/plain": [
       "Validation: |          | 0/? [00:00<?, ?it/s]"
      ]
     },
     "metadata": {},
     "output_type": "display_data"
    },
    {
     "data": {
      "application/vnd.jupyter.widget-view+json": {
       "model_id": "151e5ab0b20e4fed8fc567acef2cd8b2",
       "version_major": 2,
       "version_minor": 0
      },
      "text/plain": [
       "Validation: |          | 0/? [00:00<?, ?it/s]"
      ]
     },
     "metadata": {},
     "output_type": "display_data"
    },
    {
     "data": {
      "application/vnd.jupyter.widget-view+json": {
       "model_id": "7b6ff1f47a794c39a0c34f779a22063d",
       "version_major": 2,
       "version_minor": 0
      },
      "text/plain": [
       "Validation: |          | 0/? [00:00<?, ?it/s]"
      ]
     },
     "metadata": {},
     "output_type": "display_data"
    },
    {
     "name": "stderr",
     "output_type": "stream",
     "text": [
      "`Trainer.fit` stopped: `max_steps=300` reached.\n",
      "Trainer already configured with model summary callbacks: [<class 'pytorch_lightning.callbacks.model_summary.ModelSummary'>]. Skipping setting a default `ModelSummary` callback.\n",
      "GPU available: False, used: False\n",
      "TPU available: False, using: 0 TPU cores\n",
      "IPU available: False, using: 0 IPUs\n",
      "HPU available: False, using: 0 HPUs\n"
     ]
    },
    {
     "data": {
      "application/vnd.jupyter.widget-view+json": {
       "model_id": "c87f0f299cad469abd0fea03a558ae35",
       "version_major": 2,
       "version_minor": 0
      },
      "text/plain": [
       "Predicting: |          | 0/? [00:00<?, ?it/s]"
      ]
     },
     "metadata": {},
     "output_type": "display_data"
    },
    {
     "name": "stderr",
     "output_type": "stream",
     "text": [
      "[I 2025-07-12 11:48:24,255] Trial 5 finished with value: 209.62702343750001 and parameters: {'input_size': 35, 'dropout_prob_theta': 0.12490567664577282, 'max_steps': 300}. Best is trial 5 with value: 209.62702343750001.\n",
      "Seed set to 1\n",
      "GPU available: False, used: False\n",
      "TPU available: False, using: 0 TPU cores\n",
      "IPU available: False, using: 0 IPUs\n",
      "HPU available: False, using: 0 HPUs\n",
      "\n",
      "  | Name         | Type          | Params\n",
      "-----------------------------------------------\n",
      "0 | loss         | MQLoss        | 3     \n",
      "1 | padder_train | ConstantPad1d | 0     \n",
      "2 | scaler       | TemporalNorm  | 0     \n",
      "3 | blocks       | ModuleList    | 4.1 M \n",
      "-----------------------------------------------\n",
      "4.1 M     Trainable params\n",
      "4.4 K     Non-trainable params\n",
      "4.1 M     Total params\n",
      "16.260    Total estimated model params size (MB)\n"
     ]
    },
    {
     "name": "stdout",
     "output_type": "stream",
     "text": [
      "Trial 5: input_size=35, dropout=0.12, steps=300, MAE=209.6270\n"
     ]
    },
    {
     "data": {
      "application/vnd.jupyter.widget-view+json": {
       "model_id": "72023234b82e47d8be77dd8e581fca53",
       "version_major": 2,
       "version_minor": 0
      },
      "text/plain": [
       "Sanity Checking: |          | 0/? [00:00<?, ?it/s]"
      ]
     },
     "metadata": {},
     "output_type": "display_data"
    },
    {
     "data": {
      "application/vnd.jupyter.widget-view+json": {
       "model_id": "c1ac39ac8be447da860b42bf63767576",
       "version_major": 2,
       "version_minor": 0
      },
      "text/plain": [
       "Training: |          | 0/? [00:00<?, ?it/s]"
      ]
     },
     "metadata": {},
     "output_type": "display_data"
    },
    {
     "data": {
      "application/vnd.jupyter.widget-view+json": {
       "model_id": "1852e85e91c642eba72767a2628e0afa",
       "version_major": 2,
       "version_minor": 0
      },
      "text/plain": [
       "Validation: |          | 0/? [00:00<?, ?it/s]"
      ]
     },
     "metadata": {},
     "output_type": "display_data"
    },
    {
     "data": {
      "application/vnd.jupyter.widget-view+json": {
       "model_id": "f8d4766b85a947cda8d2f91236a424aa",
       "version_major": 2,
       "version_minor": 0
      },
      "text/plain": [
       "Validation: |          | 0/? [00:00<?, ?it/s]"
      ]
     },
     "metadata": {},
     "output_type": "display_data"
    },
    {
     "data": {
      "application/vnd.jupyter.widget-view+json": {
       "model_id": "37e27424c2944a5bb07308e53dabae64",
       "version_major": 2,
       "version_minor": 0
      },
      "text/plain": [
       "Validation: |          | 0/? [00:00<?, ?it/s]"
      ]
     },
     "metadata": {},
     "output_type": "display_data"
    },
    {
     "data": {
      "application/vnd.jupyter.widget-view+json": {
       "model_id": "79e11968756c4f668a07a87b9c26c8e4",
       "version_major": 2,
       "version_minor": 0
      },
      "text/plain": [
       "Validation: |          | 0/? [00:00<?, ?it/s]"
      ]
     },
     "metadata": {},
     "output_type": "display_data"
    },
    {
     "data": {
      "application/vnd.jupyter.widget-view+json": {
       "model_id": "7ee48c33b7a846cab224df40d2d40a63",
       "version_major": 2,
       "version_minor": 0
      },
      "text/plain": [
       "Validation: |          | 0/? [00:00<?, ?it/s]"
      ]
     },
     "metadata": {},
     "output_type": "display_data"
    },
    {
     "data": {
      "application/vnd.jupyter.widget-view+json": {
       "model_id": "cf2e16ca9fa548f4ad2aa675246be2d8",
       "version_major": 2,
       "version_minor": 0
      },
      "text/plain": [
       "Validation: |          | 0/? [00:00<?, ?it/s]"
      ]
     },
     "metadata": {},
     "output_type": "display_data"
    },
    {
     "data": {
      "application/vnd.jupyter.widget-view+json": {
       "model_id": "346f087afeee458196e0947357a3a77a",
       "version_major": 2,
       "version_minor": 0
      },
      "text/plain": [
       "Validation: |          | 0/? [00:00<?, ?it/s]"
      ]
     },
     "metadata": {},
     "output_type": "display_data"
    },
    {
     "data": {
      "application/vnd.jupyter.widget-view+json": {
       "model_id": "0392aa69c8974759b1b36d39659a27f8",
       "version_major": 2,
       "version_minor": 0
      },
      "text/plain": [
       "Validation: |          | 0/? [00:00<?, ?it/s]"
      ]
     },
     "metadata": {},
     "output_type": "display_data"
    },
    {
     "data": {
      "application/vnd.jupyter.widget-view+json": {
       "model_id": "c96c5d5dd1a24dd7b584db6d818d9458",
       "version_major": 2,
       "version_minor": 0
      },
      "text/plain": [
       "Validation: |          | 0/? [00:00<?, ?it/s]"
      ]
     },
     "metadata": {},
     "output_type": "display_data"
    },
    {
     "data": {
      "application/vnd.jupyter.widget-view+json": {
       "model_id": "f6c2fe553cc2474f84b614db41208b6a",
       "version_major": 2,
       "version_minor": 0
      },
      "text/plain": [
       "Validation: |          | 0/? [00:00<?, ?it/s]"
      ]
     },
     "metadata": {},
     "output_type": "display_data"
    },
    {
     "data": {
      "application/vnd.jupyter.widget-view+json": {
       "model_id": "aeb95640cf664fb5ac82d7577620fc35",
       "version_major": 2,
       "version_minor": 0
      },
      "text/plain": [
       "Validation: |          | 0/? [00:00<?, ?it/s]"
      ]
     },
     "metadata": {},
     "output_type": "display_data"
    },
    {
     "name": "stderr",
     "output_type": "stream",
     "text": [
      "Trainer already configured with model summary callbacks: [<class 'pytorch_lightning.callbacks.model_summary.ModelSummary'>]. Skipping setting a default `ModelSummary` callback.\n",
      "GPU available: False, used: False\n",
      "TPU available: False, using: 0 TPU cores\n",
      "IPU available: False, using: 0 IPUs\n",
      "HPU available: False, using: 0 HPUs\n"
     ]
    },
    {
     "data": {
      "application/vnd.jupyter.widget-view+json": {
       "model_id": "7f9706c01e52469187139b44fc8ad7e8",
       "version_major": 2,
       "version_minor": 0
      },
      "text/plain": [
       "Predicting: |          | 0/? [00:00<?, ?it/s]"
      ]
     },
     "metadata": {},
     "output_type": "display_data"
    },
    {
     "name": "stderr",
     "output_type": "stream",
     "text": [
      "[I 2025-07-12 11:49:43,676] Trial 6 finished with value: 279.9090801188151 and parameters: {'input_size': 42, 'dropout_prob_theta': 0.18429817045350427, 'max_steps': 250}. Best is trial 5 with value: 209.62702343750001.\n",
      "Seed set to 1\n",
      "GPU available: False, used: False\n",
      "TPU available: False, using: 0 TPU cores\n",
      "IPU available: False, using: 0 IPUs\n",
      "HPU available: False, using: 0 HPUs\n",
      "\n",
      "  | Name         | Type          | Params\n",
      "-----------------------------------------------\n",
      "0 | loss         | MQLoss        | 3     \n",
      "1 | padder_train | ConstantPad1d | 0     \n",
      "2 | scaler       | TemporalNorm  | 0     \n",
      "3 | blocks       | ModuleList    | 3.9 M \n",
      "-----------------------------------------------\n",
      "3.9 M     Trainable params\n",
      "4.0 K     Non-trainable params\n",
      "3.9 M     Total params\n",
      "15.426    Total estimated model params size (MB)\n"
     ]
    },
    {
     "name": "stdout",
     "output_type": "stream",
     "text": [
      "Trial 6: input_size=42, dropout=0.18, steps=250, MAE=279.9091\n",
      "Best trial: FrozenTrial(number=5, state=1, values=[209.62702343750001], datetime_start=datetime.datetime(2025, 7, 12, 11, 46, 43, 379465), datetime_complete=datetime.datetime(2025, 7, 12, 11, 48, 24, 255002), params={'input_size': 35, 'dropout_prob_theta': 0.12490567664577282, 'max_steps': 300}, user_attrs={}, system_attrs={}, intermediate_values={}, distributions={'input_size': IntDistribution(high=42, log=False, low=14, step=7), 'dropout_prob_theta': FloatDistribution(high=0.3, log=False, low=0.1, step=None), 'max_steps': IntDistribution(high=300, log=False, low=100, step=50)}, trial_id=5, value=None)\n"
     ]
    },
    {
     "data": {
      "application/vnd.jupyter.widget-view+json": {
       "model_id": "d6f84a7a40864628ad7e60c046052a3e",
       "version_major": 2,
       "version_minor": 0
      },
      "text/plain": [
       "Sanity Checking: |          | 0/? [00:00<?, ?it/s]"
      ]
     },
     "metadata": {},
     "output_type": "display_data"
    },
    {
     "data": {
      "application/vnd.jupyter.widget-view+json": {
       "model_id": "1fe86db6eaa2484f8525e8301e300021",
       "version_major": 2,
       "version_minor": 0
      },
      "text/plain": [
       "Training: |          | 0/? [00:00<?, ?it/s]"
      ]
     },
     "metadata": {},
     "output_type": "display_data"
    },
    {
     "data": {
      "application/vnd.jupyter.widget-view+json": {
       "model_id": "98f22700708e4bf1be0342bdeddee3c5",
       "version_major": 2,
       "version_minor": 0
      },
      "text/plain": [
       "Validation: |          | 0/? [00:00<?, ?it/s]"
      ]
     },
     "metadata": {},
     "output_type": "display_data"
    },
    {
     "data": {
      "application/vnd.jupyter.widget-view+json": {
       "model_id": "0d03522a29774123bc20cf15353d2127",
       "version_major": 2,
       "version_minor": 0
      },
      "text/plain": [
       "Validation: |          | 0/? [00:00<?, ?it/s]"
      ]
     },
     "metadata": {},
     "output_type": "display_data"
    },
    {
     "data": {
      "application/vnd.jupyter.widget-view+json": {
       "model_id": "93d1e1cfa3af42639ca40c5bb5a71a2d",
       "version_major": 2,
       "version_minor": 0
      },
      "text/plain": [
       "Validation: |          | 0/? [00:00<?, ?it/s]"
      ]
     },
     "metadata": {},
     "output_type": "display_data"
    },
    {
     "data": {
      "application/vnd.jupyter.widget-view+json": {
       "model_id": "7fbb1ba9b8c44f879364b52ddf3c47b0",
       "version_major": 2,
       "version_minor": 0
      },
      "text/plain": [
       "Validation: |          | 0/? [00:00<?, ?it/s]"
      ]
     },
     "metadata": {},
     "output_type": "display_data"
    },
    {
     "data": {
      "application/vnd.jupyter.widget-view+json": {
       "model_id": "fd5e2adb431249468e7032b25412f57b",
       "version_major": 2,
       "version_minor": 0
      },
      "text/plain": [
       "Validation: |          | 0/? [00:00<?, ?it/s]"
      ]
     },
     "metadata": {},
     "output_type": "display_data"
    },
    {
     "data": {
      "application/vnd.jupyter.widget-view+json": {
       "model_id": "e59503ed3af84ca5975a4563e18249b8",
       "version_major": 2,
       "version_minor": 0
      },
      "text/plain": [
       "Validation: |          | 0/? [00:00<?, ?it/s]"
      ]
     },
     "metadata": {},
     "output_type": "display_data"
    },
    {
     "data": {
      "application/vnd.jupyter.widget-view+json": {
       "model_id": "ba01f444b9524a14b03c2f76f2026747",
       "version_major": 2,
       "version_minor": 0
      },
      "text/plain": [
       "Validation: |          | 0/? [00:00<?, ?it/s]"
      ]
     },
     "metadata": {},
     "output_type": "display_data"
    },
    {
     "data": {
      "application/vnd.jupyter.widget-view+json": {
       "model_id": "cd8ee338e99c43c8892f5ae45d74ab62",
       "version_major": 2,
       "version_minor": 0
      },
      "text/plain": [
       "Validation: |          | 0/? [00:00<?, ?it/s]"
      ]
     },
     "metadata": {},
     "output_type": "display_data"
    },
    {
     "data": {
      "application/vnd.jupyter.widget-view+json": {
       "model_id": "c9d30fc95e574db09c018f579f04b7d8",
       "version_major": 2,
       "version_minor": 0
      },
      "text/plain": [
       "Validation: |          | 0/? [00:00<?, ?it/s]"
      ]
     },
     "metadata": {},
     "output_type": "display_data"
    },
    {
     "data": {
      "application/vnd.jupyter.widget-view+json": {
       "model_id": "fe2c592c9644470ca2771a2fce8101f6",
       "version_major": 2,
       "version_minor": 0
      },
      "text/plain": [
       "Validation: |          | 0/? [00:00<?, ?it/s]"
      ]
     },
     "metadata": {},
     "output_type": "display_data"
    },
    {
     "data": {
      "application/vnd.jupyter.widget-view+json": {
       "model_id": "ada5cbb56a1249eb82f499aea7fc4253",
       "version_major": 2,
       "version_minor": 0
      },
      "text/plain": [
       "Validation: |          | 0/? [00:00<?, ?it/s]"
      ]
     },
     "metadata": {},
     "output_type": "display_data"
    },
    {
     "ename": "ValueError",
     "evalue": "Found null values in `futr_df`",
     "output_type": "error",
     "traceback": [
      "\u001b[1;31m---------------------------------------------------------------------------\u001b[0m",
      "\u001b[1;31mValueError\u001b[0m                                Traceback (most recent call last)",
      "Cell \u001b[1;32mIn[4], line 23\u001b[0m\n\u001b[0;32m     11\u001b[0m classification_df[\u001b[38;5;124m'\u001b[39m\u001b[38;5;124mds\u001b[39m\u001b[38;5;124m'\u001b[39m] \u001b[38;5;241m=\u001b[39m pd\u001b[38;5;241m.\u001b[39mto_datetime(classification_df[\u001b[38;5;124m'\u001b[39m\u001b[38;5;124mds\u001b[39m\u001b[38;5;124m'\u001b[39m])\n\u001b[0;32m     16\u001b[0m best_params \u001b[38;5;241m=\u001b[39m tune_prediction_model(\n\u001b[0;32m     17\u001b[0m df\u001b[38;5;241m=\u001b[39mdf,\n\u001b[0;32m     18\u001b[0m horizon\u001b[38;5;241m=\u001b[39m\u001b[38;5;241m30\u001b[39m,\n\u001b[0;32m     19\u001b[0m n_trials\u001b[38;5;241m=\u001b[39m\u001b[38;5;241m7\u001b[39m,\n\u001b[0;32m     20\u001b[0m \n\u001b[0;32m     21\u001b[0m )\n\u001b[1;32m---> 23\u001b[0m final_df,top_feats\u001b[38;5;241m=\u001b[39m \u001b[43mtrain_and_predict_payment\u001b[49m\u001b[43m(\u001b[49m\n\u001b[0;32m     24\u001b[0m \u001b[43m    \u001b[49m\u001b[43mdf\u001b[49m\u001b[38;5;241;43m=\u001b[39;49m\u001b[43mdf\u001b[49m\u001b[43m,\u001b[49m\n\u001b[0;32m     25\u001b[0m \u001b[43m    \u001b[49m\u001b[43mbest_params\u001b[49m\u001b[38;5;241;43m=\u001b[39;49m\u001b[43mbest_params\u001b[49m\u001b[43m,\u001b[49m\n\u001b[0;32m     26\u001b[0m \u001b[43m    \u001b[49m\u001b[43mhorizon\u001b[49m\u001b[38;5;241;43m=\u001b[39;49m\u001b[38;5;241;43m30\u001b[39;49m\u001b[43m,\u001b[49m\n\u001b[0;32m     27\u001b[0m \u001b[43m    \u001b[49m\u001b[43mbalance_pred_df\u001b[49m\u001b[38;5;241;43m=\u001b[39;49m\u001b[43mbalance_pred_df\u001b[49m\u001b[43m,\u001b[49m\n\u001b[0;32m     28\u001b[0m \u001b[43m    \u001b[49m\u001b[43mclassification_results_df\u001b[49m\u001b[38;5;241;43m=\u001b[39;49m\u001b[43mclassification_df\u001b[49m\n\u001b[0;32m     29\u001b[0m \u001b[43m\u001b[49m\u001b[43m)\u001b[49m\n",
      "Cell \u001b[1;32mIn[3], line 87\u001b[0m, in \u001b[0;36mtrain_and_predict_payment\u001b[1;34m(df, best_params, horizon, balance_pred_df, classification_results_df)\u001b[0m\n\u001b[0;32m     84\u001b[0m nf \u001b[38;5;241m=\u001b[39m NeuralForecast(models\u001b[38;5;241m=\u001b[39m[model], freq\u001b[38;5;241m=\u001b[39m\u001b[38;5;124m'\u001b[39m\u001b[38;5;124mD\u001b[39m\u001b[38;5;124m'\u001b[39m)\n\u001b[0;32m     85\u001b[0m nf\u001b[38;5;241m.\u001b[39mfit(df\u001b[38;5;241m=\u001b[39mamount_train_df, val_size\u001b[38;5;241m=\u001b[39mhorizon)\n\u001b[1;32m---> 87\u001b[0m amount_Y_hat_df \u001b[38;5;241m=\u001b[39m \u001b[43mnf\u001b[49m\u001b[38;5;241;43m.\u001b[39;49m\u001b[43mpredict\u001b[49m\u001b[43m(\u001b[49m\u001b[43mfutr_df\u001b[49m\u001b[38;5;241;43m=\u001b[39;49m\u001b[43mfuture_exog_df\u001b[49m\u001b[43m)\u001b[49m\n\u001b[0;32m     88\u001b[0m amount_Y_hat_df[\u001b[38;5;124m'\u001b[39m\u001b[38;5;124mNBEATSx-median\u001b[39m\u001b[38;5;124m'\u001b[39m] \u001b[38;5;241m*\u001b[39m\u001b[38;5;241m=\u001b[39m future_exog_df[\u001b[38;5;124m'\u001b[39m\u001b[38;5;124mpayment_occurenc_probability\u001b[39m\u001b[38;5;124m'\u001b[39m]\u001b[38;5;241m.\u001b[39mvalues\n\u001b[0;32m     89\u001b[0m amount_Y_hat_df[\u001b[38;5;124m'\u001b[39m\u001b[38;5;124mNBEATSx-hi-90\u001b[39m\u001b[38;5;124m'\u001b[39m] \u001b[38;5;241m*\u001b[39m\u001b[38;5;241m=\u001b[39m future_exog_df[\u001b[38;5;124m'\u001b[39m\u001b[38;5;124mpayment_occurenc_probability\u001b[39m\u001b[38;5;124m'\u001b[39m]\u001b[38;5;241m.\u001b[39mvalues\n",
      "File \u001b[1;32mc:\\Users\\ASUS TUF\\AppData\\Local\\Programs\\Python\\Python312\\Lib\\site-packages\\neuralforecast\\core.py:941\u001b[0m, in \u001b[0;36mNeuralForecast.predict\u001b[1;34m(self, df, static_df, futr_df, verbose, engine, level, quantiles, **data_kwargs)\u001b[0m\n\u001b[0;32m    939\u001b[0m         warnings\u001b[38;5;241m.\u001b[39mwarn(\u001b[38;5;124mf\u001b[39m\u001b[38;5;124m\"\u001b[39m\u001b[38;5;124mDropped \u001b[39m\u001b[38;5;132;01m{\u001b[39;00mdropped_rows\u001b[38;5;132;01m:\u001b[39;00m\u001b[38;5;124m,\u001b[39m\u001b[38;5;132;01m}\u001b[39;00m\u001b[38;5;124m unused rows from `futr_df`.\u001b[39m\u001b[38;5;124m\"\u001b[39m)\n\u001b[0;32m    940\u001b[0m     \u001b[38;5;28;01mif\u001b[39;00m \u001b[38;5;28many\u001b[39m(ufp\u001b[38;5;241m.\u001b[39mis_none(futr_df[col])\u001b[38;5;241m.\u001b[39many() \u001b[38;5;28;01mfor\u001b[39;00m col \u001b[38;5;129;01min\u001b[39;00m needed_futr_exog):\n\u001b[1;32m--> 941\u001b[0m         \u001b[38;5;28;01mraise\u001b[39;00m \u001b[38;5;167;01mValueError\u001b[39;00m(\u001b[38;5;124m\"\u001b[39m\u001b[38;5;124mFound null values in `futr_df`\u001b[39m\u001b[38;5;124m\"\u001b[39m)\n\u001b[0;32m    942\u001b[0m futr_dataset \u001b[38;5;241m=\u001b[39m dataset\u001b[38;5;241m.\u001b[39malign(\n\u001b[0;32m    943\u001b[0m     futr_df,\n\u001b[0;32m    944\u001b[0m     id_col\u001b[38;5;241m=\u001b[39m\u001b[38;5;28mself\u001b[39m\u001b[38;5;241m.\u001b[39mid_col,\n\u001b[0;32m    945\u001b[0m     time_col\u001b[38;5;241m=\u001b[39m\u001b[38;5;28mself\u001b[39m\u001b[38;5;241m.\u001b[39mtime_col,\n\u001b[0;32m    946\u001b[0m     target_col\u001b[38;5;241m=\u001b[39m\u001b[38;5;28mself\u001b[39m\u001b[38;5;241m.\u001b[39mtarget_col,\n\u001b[0;32m    947\u001b[0m )\n\u001b[0;32m    948\u001b[0m \u001b[38;5;28mself\u001b[39m\u001b[38;5;241m.\u001b[39m_scalers_transform(futr_dataset)\n",
      "\u001b[1;31mValueError\u001b[0m: Found null values in `futr_df`"
     ]
    }
   ],
   "source": [
    "if __name__ == \"__main__\":\n",
    "    # Load data\n",
    "    \n",
    "    classification_df = pd.read_excel('classification_result_shiharadata.xlsx')\n",
    "    df = pd.read_excel('shihara_processed_data.xlsx')\n",
    "    balance_pred_df = pd.read_excel('forecast.xlsx')\n",
    "    \n",
    "    # Ensure dates are parsed\n",
    "    df['date'] = pd.to_datetime(df['date'])\n",
    "    balance_pred_df['ds'] = pd.to_datetime(\"2025-01-02\") + pd.to_timedelta(balance_pred_df['Day'] - 1, unit='D')\n",
    "    classification_df['ds'] = pd.to_datetime(classification_df['ds'])\n",
    "\n",
    "    \n",
    "\n",
    "\n",
    "    best_params = tune_prediction_model(\n",
    "    df=df,\n",
    "    horizon=30,\n",
    "    n_trials=7,\n",
    "    \n",
    "    )\n",
    "\n",
    "    final_df,top_feats= train_and_predict_payment(\n",
    "        df=df,\n",
    "        best_params=best_params,\n",
    "        horizon=30,\n",
    "        balance_pred_df=balance_pred_df,\n",
    "        classification_results_df=classification_df\n",
    "    )"
   ]
  },
  {
   "cell_type": "code",
   "execution_count": 12,
   "id": "cef13c9e",
   "metadata": {},
   "outputs": [
    {
     "name": "stderr",
     "output_type": "stream",
     "text": [
      "C:\\Users\\ASUS TUF\\AppData\\Local\\Temp\\ipykernel_21364\\444147776.py:50: FutureWarning: Series.fillna with 'method' is deprecated and will raise in a future version. Use obj.ffill() or obj.bfill() instead.\n",
      "  future_df['balance'] = future_df['balance'].fillna(method='ffill').fillna(0)\n",
      "Seed set to 1\n"
     ]
    },
    {
     "name": "stderr",
     "output_type": "stream",
     "text": [
      "GPU available: False, used: False\n",
      "TPU available: False, using: 0 TPU cores\n",
      "IPU available: False, using: 0 IPUs\n",
      "HPU available: False, using: 0 HPUs\n",
      "\n",
      "  | Name         | Type          | Params\n",
      "-----------------------------------------------\n",
      "0 | loss         | MQLoss        | 3     \n",
      "1 | padder_train | ConstantPad1d | 0     \n",
      "2 | scaler       | TemporalNorm  | 0     \n",
      "3 | blocks       | ModuleList    | 3.9 M \n",
      "-----------------------------------------------\n",
      "3.9 M     Trainable params\n",
      "4.0 K     Non-trainable params\n",
      "3.9 M     Total params\n",
      "15.426    Total estimated model params size (MB)\n"
     ]
    },
    {
     "data": {
      "application/vnd.jupyter.widget-view+json": {
       "model_id": "13894ec4caa54e99aae5e09f07a33b67",
       "version_major": 2,
       "version_minor": 0
      },
      "text/plain": [
       "Sanity Checking: |          | 0/? [00:00<?, ?it/s]"
      ]
     },
     "metadata": {},
     "output_type": "display_data"
    },
    {
     "data": {
      "application/vnd.jupyter.widget-view+json": {
       "model_id": "109f6e5f2c574e8c8f94c5618b9ea134",
       "version_major": 2,
       "version_minor": 0
      },
      "text/plain": [
       "Training: |          | 0/? [00:00<?, ?it/s]"
      ]
     },
     "metadata": {},
     "output_type": "display_data"
    },
    {
     "data": {
      "application/vnd.jupyter.widget-view+json": {
       "model_id": "326621a1710b49bcae502f23b550c0bc",
       "version_major": 2,
       "version_minor": 0
      },
      "text/plain": [
       "Validation: |          | 0/? [00:00<?, ?it/s]"
      ]
     },
     "metadata": {},
     "output_type": "display_data"
    },
    {
     "data": {
      "application/vnd.jupyter.widget-view+json": {
       "model_id": "cd69c83d2e1e44c3a74a1c4a4948f20b",
       "version_major": 2,
       "version_minor": 0
      },
      "text/plain": [
       "Validation: |          | 0/? [00:00<?, ?it/s]"
      ]
     },
     "metadata": {},
     "output_type": "display_data"
    },
    {
     "data": {
      "application/vnd.jupyter.widget-view+json": {
       "model_id": "457ca9c236c1486394c16d53c871a687",
       "version_major": 2,
       "version_minor": 0
      },
      "text/plain": [
       "Validation: |          | 0/? [00:00<?, ?it/s]"
      ]
     },
     "metadata": {},
     "output_type": "display_data"
    },
    {
     "data": {
      "application/vnd.jupyter.widget-view+json": {
       "model_id": "52da4fd778d3427dbccfd520991506e7",
       "version_major": 2,
       "version_minor": 0
      },
      "text/plain": [
       "Validation: |          | 0/? [00:00<?, ?it/s]"
      ]
     },
     "metadata": {},
     "output_type": "display_data"
    },
    {
     "data": {
      "application/vnd.jupyter.widget-view+json": {
       "model_id": "73e786fcf13f4febac656831ae8e2c3d",
       "version_major": 2,
       "version_minor": 0
      },
      "text/plain": [
       "Validation: |          | 0/? [00:00<?, ?it/s]"
      ]
     },
     "metadata": {},
     "output_type": "display_data"
    },
    {
     "data": {
      "application/vnd.jupyter.widget-view+json": {
       "model_id": "f0afd8fcd7464cda9c9bd19277e2afe2",
       "version_major": 2,
       "version_minor": 0
      },
      "text/plain": [
       "Validation: |          | 0/? [00:00<?, ?it/s]"
      ]
     },
     "metadata": {},
     "output_type": "display_data"
    },
    {
     "data": {
      "application/vnd.jupyter.widget-view+json": {
       "model_id": "d34aece048fe4addb811c77396edd18b",
       "version_major": 2,
       "version_minor": 0
      },
      "text/plain": [
       "Validation: |          | 0/? [00:00<?, ?it/s]"
      ]
     },
     "metadata": {},
     "output_type": "display_data"
    },
    {
     "data": {
      "application/vnd.jupyter.widget-view+json": {
       "model_id": "fba334107c8a464ba13058c735d218fa",
       "version_major": 2,
       "version_minor": 0
      },
      "text/plain": [
       "Validation: |          | 0/? [00:00<?, ?it/s]"
      ]
     },
     "metadata": {},
     "output_type": "display_data"
    },
    {
     "data": {
      "application/vnd.jupyter.widget-view+json": {
       "model_id": "91fd9141d43149c48e26017ed6b90cc0",
       "version_major": 2,
       "version_minor": 0
      },
      "text/plain": [
       "Validation: |          | 0/? [00:00<?, ?it/s]"
      ]
     },
     "metadata": {},
     "output_type": "display_data"
    },
    {
     "data": {
      "application/vnd.jupyter.widget-view+json": {
       "model_id": "df9bb828676749cb9b27b2bcf9323b95",
       "version_major": 2,
       "version_minor": 0
      },
      "text/plain": [
       "Validation: |          | 0/? [00:00<?, ?it/s]"
      ]
     },
     "metadata": {},
     "output_type": "display_data"
    },
    {
     "data": {
      "application/vnd.jupyter.widget-view+json": {
       "model_id": "94f31b418b48453f95a51b212762c702",
       "version_major": 2,
       "version_minor": 0
      },
      "text/plain": [
       "Validation: |          | 0/? [00:00<?, ?it/s]"
      ]
     },
     "metadata": {},
     "output_type": "display_data"
    },
    {
     "name": "stderr",
     "output_type": "stream",
     "text": [
      "Trainer already configured with model summary callbacks: [<class 'pytorch_lightning.callbacks.model_summary.ModelSummary'>]. Skipping setting a default `ModelSummary` callback.\n",
      "GPU available: False, used: False\n",
      "TPU available: False, using: 0 TPU cores\n",
      "IPU available: False, using: 0 IPUs\n",
      "HPU available: False, using: 0 HPUs\n"
     ]
    },
    {
     "data": {
      "application/vnd.jupyter.widget-view+json": {
       "model_id": "58d8d970a6da4131900d30aca971316b",
       "version_major": 2,
       "version_minor": 0
      },
      "text/plain": [
       "Predicting: |          | 0/? [00:00<?, ?it/s]"
      ]
     },
     "metadata": {},
     "output_type": "display_data"
    }
   ],
   "source": [
    "final_df,top_feats= train_and_predict_payment(\n",
    "        df=df,\n",
    "        best_params=best_params,\n",
    "        horizon=30,\n",
    "        balance_pred_df=balance_pred_df,\n",
    "        classification_results_df=classification_df\n",
    "    )"
   ]
  },
  {
   "cell_type": "code",
   "execution_count": 13,
   "id": "940f7ec6",
   "metadata": {},
   "outputs": [
    {
     "name": "stdout",
     "output_type": "stream",
     "text": [
      "Saved predictions to final_payment_predictions.xlsx\n"
     ]
    }
   ],
   "source": [
    "final_df.to_excel('final_shiharadata_payments.xlsx', index=False)\n",
    "print(\"Saved predictions to final_payment_predictions.xlsx\")"
   ]
  },
  {
   "cell_type": "code",
   "execution_count": 14,
   "id": "707355ca",
   "metadata": {},
   "outputs": [
    {
     "name": "stdout",
     "output_type": "stream",
     "text": [
      "---- Evaluation on Actual Expense Days (Payment > 0) ----\n",
      "MAE:  1455.5006\n",
      "RMSE: 1628.6489\n",
      "MAPE: 96.81%\n",
      "R²:   -1.8524\n"
     ]
    }
   ],
   "source": [
    "from sklearn.metrics import mean_absolute_error, mean_squared_error, r2_score\n",
    "import numpy as np\n",
    "\n",
    "def evaluate_prediction_results(df, final_df):\n",
    "    # Ensure date types are correct\n",
    "    df['date'] = pd.to_datetime(df['date'])\n",
    "    final_df['ds'] = pd.to_datetime(final_df['ds'])\n",
    "\n",
    "    # Filter ground truth (actuals) for prediction period (next 30 days)\n",
    "    start_date = final_df['ds'].min()\n",
    "    end_date = final_df['ds'].max()\n",
    "    actual_df = df[(df['date'] >= start_date) & (df['date'] <= end_date)].copy()\n",
    "\n",
    "    # Filter only days where payment was actually made (expenses > 0)\n",
    "    actual_expenses = actual_df[actual_df['payment'] > 0].copy()\n",
    "\n",
    "    # Merge with predictions\n",
    "    merged = pd.merge(\n",
    "        actual_expenses[['date', 'payment']],\n",
    "        final_df[['ds', 'NBEATSx-median']],\n",
    "        left_on='date',\n",
    "        right_on='ds',\n",
    "        how='inner'\n",
    "    )\n",
    "\n",
    "    # Drop rows with missing predictions\n",
    "    merged = merged.dropna()\n",
    "\n",
    "    # Rename for clarity\n",
    "    y_true = merged['payment'].values\n",
    "    y_pred = merged['NBEATSx-median'].values\n",
    "\n",
    "    # Compute metrics\n",
    "    mae = mean_absolute_error(y_true, y_pred)\n",
    "    rmse = np.sqrt(mean_squared_error(y_true, y_pred))\n",
    "    mape = np.mean(np.abs((y_true - y_pred) / (y_true + 1e-6))) * 100  # avoid division by zero\n",
    "    r2 = r2_score(y_true, y_pred)\n",
    "\n",
    "    # Print results\n",
    "    print(\"---- Evaluation on Actual Expense Days (Payment > 0) ----\")\n",
    "    print(f\"MAE:  {mae:.4f}\")\n",
    "    print(f\"RMSE: {rmse:.4f}\")\n",
    "    print(f\"MAPE: {mape:.2f}%\")\n",
    "    print(f\"R²:   {r2:.4f}\")\n",
    "\n",
    "    return {\n",
    "        'mae': mae,\n",
    "        'rmse': rmse,\n",
    "        'mape': mape,\n",
    "        'r2': r2\n",
    "    }\n",
    "\n",
    "# Usage\n",
    "metrics = evaluate_prediction_results(df, final_df)"
   ]
  }
 ],
 "metadata": {
  "kernelspec": {
   "display_name": "Python 3",
   "language": "python",
   "name": "python3"
  },
  "language_info": {
   "codemirror_mode": {
    "name": "ipython",
    "version": 3
   },
   "file_extension": ".py",
   "mimetype": "text/x-python",
   "name": "python",
   "nbconvert_exporter": "python",
   "pygments_lexer": "ipython3",
   "version": "3.12.2"
  }
 },
 "nbformat": 4,
 "nbformat_minor": 5
}

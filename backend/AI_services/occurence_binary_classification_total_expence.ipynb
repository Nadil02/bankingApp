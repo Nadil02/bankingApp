{
 "cells": [
  {
   "cell_type": "code",
   "execution_count": 1,
   "id": "6d3a93cb",
   "metadata": {},
   "outputs": [],
   "source": [
    "import pandas as pd\n",
    "import numpy as np\n",
    "from neuralforecast import NeuralForecast\n",
    "from neuralforecast.models import NBEATSx\n",
    "from neuralforecast.losses.pytorch import DistributionLoss\n",
    "from sklearn.metrics import precision_score\n",
    "import optuna\n",
    "from sklearn.metrics import f1_score, precision_score, average_precision_score\n"
   ]
  },
  {
   "cell_type": "code",
   "execution_count": null,
   "id": "5176e0cb",
   "metadata": {},
   "outputs": [],
   "source": []
  },
  {
   "cell_type": "code",
   "execution_count": null,
   "id": "2db41e41",
   "metadata": {},
   "outputs": [],
   "source": []
  },
  {
   "cell_type": "code",
   "execution_count": 2,
   "id": "1c86c6c3",
   "metadata": {},
   "outputs": [],
   "source": [
    "#parameter tuning\n",
    "#df=full preprocessed dataset\n",
    "\n",
    "def tune_binary_model(df, horizon=30, n_trials=10,score_metric='f1'):\n",
    "\n",
    "    df = df.copy()   \n",
    "    if not pd.api.types.is_datetime64_any_dtype(df['date']):\n",
    "        df['date'] = pd.to_datetime(df['date'])\n",
    "\n",
    "    df['unique_id'] = 'main_series'\n",
    "    df = df.rename(columns={'date': 'ds', 'payment_made': 'y'})\n",
    "\n",
    "    min_val = df['payment'].min()\n",
    "    max_val = df['payment'].max()\n",
    "    df['payment'] = (df['payment'] - min_val) / (max_val - min_val) if max_val != min_val else 0\n",
    "        \n",
    "    print(f\"Positive class ratio (y=1) in dataset: {df['y'].mean():.4f}\")\n",
    "    \n",
    "    #creates future features using the test set\n",
    "    def create_future_features(test_df):\n",
    "        # Create future_df from test_df dates\n",
    "        future_df = test_df[['ds']].copy()\n",
    "        future_df['unique_id'] = 'main_series'\n",
    "        \n",
    "        # Merge with test_df features\n",
    "        test_features = test_df[['ds', 'balance', 'day_of_week_sin', 'day_of_week_cos', \n",
    "                               'is_weekend', 'balance_changed']]\n",
    "        \n",
    "        future_df = future_df.merge(test_features, on='ds', how='left')\n",
    "        \n",
    "        return future_df[[\n",
    "            'ds', 'unique_id', 'balance', 'balance_changed', \n",
    "            'day_of_week_sin', 'day_of_week_cos', 'is_weekend']]\n",
    "\n",
    "    main_df = df[:-horizon].copy()\n",
    "    train_df = main_df[:-horizon].copy()\n",
    "    test_df = main_df[-horizon:].copy()\n",
    " \n",
    "    future_exog_df = create_future_features(test_df)\n",
    "\n",
    "    #define future and past feature columns\n",
    "    hist_exog_vars = [\n",
    "        'payment_count', 'days_since_last_payment', '7day_avg_payment', '30day_avg_payment',\n",
    "        'cumulative_avg_zero_days', 'num_payments_from_start', 'payment',\n",
    "        'day_of_week_sin', 'day_of_week_cos', 'is_weekend', \n",
    "        'balance', 'balance_changed']\n",
    "    \n",
    "    futr_exog_vars = ['day_of_week_sin', 'day_of_week_cos', 'is_weekend', \n",
    "                      'balance', 'balance_changed']\n",
    "\n",
    "\n",
    "    def objective(trial):\n",
    "        model = NBEATSx(\n",
    "            h=horizon,\n",
    "            input_size=trial.suggest_int(\"input_size\", 80, 200),\n",
    "            loss=DistributionLoss(distribution='Bernoulli', level=[80, 90]),\n",
    "            dropout_prob_theta=trial.suggest_float(\"dropout_prob\", 0.0, 0.3, step=0.05),\n",
    "            scaler_type='robust',\n",
    "            futr_exog_list=futr_exog_vars,\n",
    "            hist_exog_list=hist_exog_vars,\n",
    "            max_steps=trial.suggest_int(\"max_steps\", 500, 1500),\n",
    "            learning_rate=trial.suggest_float(\"learning_rate\", 1e-4, 1e-2, log=True),\n",
    "            batch_size=trial.suggest_categorical(\"batch_size\", [16, 32, 64]),\n",
    "            #num_lr_decays=trial.suggest_int(\"num_lr_decays\", 1, 5),\n",
    "            val_check_steps=20,\n",
    "            early_stop_patience_steps=5,\n",
    "            random_seed=42 \n",
    "        )\n",
    "        nf = NeuralForecast(models=[model], freq='D')\n",
    "\n",
    "        try:\n",
    "            nf.fit(df=train_df, val_size=horizon)\n",
    "            preds = nf.predict(futr_df=future_exog_df).reset_index(drop=False)\n",
    "            preds = preds[['ds', 'NBEATSx-median']].rename(columns={'NBEATSx-median': 'payment_probability'})\n",
    "            merged = preds.merge(test_df[['ds', 'y']], on='ds', how='left').dropna()\n",
    "            y_true = merged['y']\n",
    "            threshold = trial.suggest_float(\"threshold\", 0.2, 0.8)\n",
    "            y_pred = (merged['payment_probability'] > threshold).astype(int)\n",
    "\n",
    "            # Choose metric\n",
    "            if score_metric == 'f1':\n",
    "                score = f1_score(y_true, y_pred, zero_division=0)\n",
    "            elif score_metric == 'average_precision':\n",
    "                score = average_precision_score(y_true, merged['payment_probability'])\n",
    "            else:  # Default to precision\n",
    "                score = precision_score(y_true, y_pred, zero_division=0)\n",
    "\n",
    "            trial.set_user_attr(\"score\", score)\n",
    "            print(f\"Trial {trial.number}: Score={score:.4f}, Threshold={threshold:.2f}, Params={trial.params}\")\n",
    "            return score\n",
    "        except Exception as e:\n",
    "            print(f\"Trial failed: {e}\")\n",
    "            return 0.0\n",
    "            \n",
    "        \n",
    "\n",
    "    study = optuna.create_study(direction=\"maximize\")\n",
    "    study.optimize(objective, n_trials=n_trials)\n",
    "\n",
    "    print(\"Best parameters:\", study.best_params)\n",
    "    return study.best_params\n",
    "\n"
   ]
  },
  {
   "cell_type": "code",
   "execution_count": null,
   "id": "6382ee79",
   "metadata": {},
   "outputs": [],
   "source": []
  },
  {
   "cell_type": "code",
   "execution_count": null,
   "id": "17d50491",
   "metadata": {},
   "outputs": [],
   "source": []
  },
  {
   "cell_type": "code",
   "execution_count": 5,
   "id": "8dbbd156",
   "metadata": {},
   "outputs": [],
   "source": [
    "#train and take predictions + uncertainity(of payment occurence)\n",
    "#df=full dataset\n",
    "#balance_pred_csv_path= reffers the predicted balance dataset (Isuru's predicted data)\n",
    "\n",
    "def train_and_predict_binary_model(df, balance_pred_df, best_params, horizon=30):\n",
    "\n",
    "    df = df.copy()  \n",
    "    if not pd.api.types.is_datetime64_any_dtype(df['date']):\n",
    "        df['date'] = pd.to_datetime(df['date'])\n",
    "\n",
    "    df['unique_id'] = 'main_series'\n",
    "    df = df.rename(columns={'date': 'ds', 'payment_made': 'y'})\n",
    "\n",
    "    min_val = df['payment'].min()\n",
    "    max_val = df['payment'].max()\n",
    "    df['payment'] = (df['payment'] - min_val) / (max_val - min_val) if max_val != min_val else 0\n",
    "\n",
    "    \n",
    "    #create future features \n",
    "    def create_future_features(df, balance_pred_df):\n",
    "        last_date = df['ds'].max()\n",
    "        future_dates = pd.date_range(start=last_date + pd.Timedelta(days=1), periods=horizon, freq='D')\n",
    "        future_df = pd.DataFrame({'ds': future_dates})\n",
    "        future_df['unique_id'] = 'main_series'\n",
    "\n",
    "        balance_pred = balance_pred_df.copy()\n",
    "        balance_pred['ds'] = pd.to_datetime(balance_pred['ds'])\n",
    "        min_v = balance_pred['Forecast'].min()\n",
    "        max_v = balance_pred['Forecast'].max()\n",
    "        balance_pred['Forecast'] = (balance_pred['Forecast'] - min_v) / (max_v - min_v) if max_v != min_v else 0\n",
    "        #balance_pred['date'] = pd.to_datetime(balance_pred['date']) \n",
    "        balance_pred = balance_pred.rename(columns={'Forecast': 'balance'})\n",
    "        \n",
    "        balance_pred = balance_pred[['ds', 'balance']]\n",
    "        future_df = future_df.merge(balance_pred, on='ds', how='left')\n",
    "\n",
    "        future_df['balance'] = future_df['balance'].fillna(0)\n",
    "\n",
    "        future_df['day_of_week'] = future_df['ds'].dt.dayofweek\n",
    "        future_df['day_of_week_sin'] = np.sin(2 * np.pi * future_df['day_of_week'] / 7)\n",
    "        future_df['day_of_week_cos'] = np.cos(2 * np.pi * future_df['day_of_week'] / 7)\n",
    "        future_df['is_weekend'] = future_df['day_of_week'].isin([5, 6]).astype(int)\n",
    "\n",
    "        future_df = future_df.sort_values('ds').reset_index(drop=True)\n",
    "        future_df['balance_changed'] = (future_df['balance'] != future_df['balance'].shift(1)).astype(int)\n",
    "        future_df['balance_changed'] = future_df['balance_changed'].fillna(0)\n",
    "        \n",
    "\n",
    "        return future_df[[\n",
    "            'ds', 'unique_id', 'balance', 'balance_changed',\n",
    "            'day_of_week_sin', 'day_of_week_cos', 'is_weekend']]\n",
    "\n",
    "    train_df = df[:-horizon].copy()\n",
    "    ##train_df = df.copy()\n",
    "    future_exog_df = create_future_features(train_df,balance_pred_df)\n",
    "\n",
    "    #define future and past features columns\n",
    "    #hist_exog_vars= historical features\n",
    "    #futr_exog_vars=future features\n",
    "    hist_exog_vars = [\n",
    "        'payment_count', 'days_since_last_payment', '7day_avg_payment', '30day_avg_payment',\n",
    "        'cumulative_avg_zero_days', 'num_payments_from_start', 'payment',\n",
    "        'day_of_week_sin', 'day_of_week_cos', 'is_weekend', \n",
    "        'balance', 'balance_changed']\n",
    "    \n",
    "    futr_exog_vars = ['day_of_week_sin', 'day_of_week_cos', 'is_weekend', \n",
    "                      'balance', 'balance_changed']\n",
    "\n",
    "    model = NBEATSx(\n",
    "        h=horizon,\n",
    "        input_size=best_params['input_size'],\n",
    "        loss=DistributionLoss(distribution='Bernoulli', level=[80, 90]),\n",
    "        dropout_prob_theta=best_params['dropout_prob'],\n",
    "        scaler_type='robust',\n",
    "        futr_exog_list=futr_exog_vars,\n",
    "        hist_exog_list=hist_exog_vars,\n",
    "        max_steps=best_params['max_steps'],\n",
    "        learning_rate=best_params['learning_rate'],\n",
    "        batch_size=best_params['batch_size'],\n",
    "        #num_lr_decays=best_params['num_lr_decays'],\n",
    "        val_check_steps=20,\n",
    "        early_stop_patience_steps=5,\n",
    "        random_seed=42 \n",
    "    )\n",
    "\n",
    "    nf = NeuralForecast(models=[model], freq='D')\n",
    "    nf.fit(df=train_df, val_size=horizon)\n",
    "\n",
    "    #take the occurence(1 or 0) and the probability(...%)\n",
    "    # Predict probabilities\n",
    "    preds = nf.predict(futr_df=future_exog_df).reset_index(drop=False)\n",
    "    preds = preds[['ds', 'NBEATSx-median', 'NBEATSx']]\n",
    "    preds.columns = ['ds', 'predicted_payment_occurence', 'predicted_occurence_probability']\n",
    "\n",
    "    # Optional: Evaluate best threshold using last part of train_df\n",
    "    val_df = df[-horizon:].copy()\n",
    "    val_df = val_df[['ds', 'y']].rename(columns={'y': 'actual'})\n",
    "    merged_val = preds.merge(val_df, on='ds', how='inner').dropna()\n",
    "    \n",
    "    def find_best_threshold(y_true, y_probs):\n",
    "        thresholds = np.linspace(0.1, 0.9, 81)\n",
    "        best_threshold = 0.5\n",
    "        best_f1 = 0\n",
    "        for t in thresholds:\n",
    "            y_pred = (y_probs > t).astype(int)\n",
    "            f1 = f1_score(y_true, y_pred)\n",
    "            if f1 > best_f1:\n",
    "                best_f1 = f1\n",
    "                best_threshold = t\n",
    "        return best_threshold, best_f1\n",
    "\n",
    "    # Tune threshold using validation data\n",
    "    best_threshold, best_f1 = find_best_threshold(\n",
    "        y_true=merged_val['actual'], \n",
    "        y_probs=merged_val['predicted_occurence_probability']\n",
    "    )\n",
    "    print(f\"[Threshold Tuning] Best threshold: {best_threshold:.2f}, F1: {best_f1:.4f}\")\n",
    "\n",
    "    # Apply optimal threshold\n",
    "    preds['predicted_payment_occurence'] = (preds['predicted_occurence_probability'] > best_threshold).astype(int)\n",
    "\n",
    "    # Uncertainty\n",
    "    preds['uncertainty_percent'] = (1 - np.abs(preds['predicted_occurence_probability'] - 0.5) * 2) * 100\n",
    "\n",
    "    \n",
    "    return preds\n"
   ]
  },
  {
   "cell_type": "code",
   "execution_count": null,
   "id": "a5d3f824",
   "metadata": {},
   "outputs": [],
   "source": [
    "\n"
   ]
  },
  {
   "cell_type": "code",
   "execution_count": null,
   "id": "1c937662",
   "metadata": {},
   "outputs": [],
   "source": []
  },
  {
   "cell_type": "code",
   "execution_count": 4,
   "id": "9cf1df91",
   "metadata": {},
   "outputs": [
    {
     "name": "stderr",
     "output_type": "stream",
     "text": [
      "[I 2025-07-12 09:55:21,484] A new study created in memory with name: no-name-26d48e96-d772-4316-b0de-0a904e2b19f4\n",
      "Seed set to 42\n"
     ]
    },
    {
     "name": "stdout",
     "output_type": "stream",
     "text": [
      "Positive class ratio (y=1) in dataset: 0.2954\n"
     ]
    },
    {
     "name": "stderr",
     "output_type": "stream",
     "text": [
      "GPU available: False, used: False\n",
      "TPU available: False, using: 0 TPU cores\n",
      "IPU available: False, using: 0 IPUs\n",
      "HPU available: False, using: 0 HPUs\n",
      "\n",
      "  | Name         | Type             | Params\n",
      "--------------------------------------------------\n",
      "0 | loss         | DistributionLoss | 5     \n",
      "1 | padder_train | ConstantPad1d    | 0     \n",
      "2 | scaler       | TemporalNorm     | 0     \n",
      "3 | blocks       | ModuleList       | 5.0 M \n",
      "--------------------------------------------------\n",
      "5.0 M     Trainable params\n",
      "6.8 K     Non-trainable params\n",
      "5.0 M     Total params\n",
      "19.847    Total estimated model params size (MB)\n"
     ]
    },
    {
     "data": {
      "application/vnd.jupyter.widget-view+json": {
       "model_id": "b4c19f12591b4b3e81c2317f0b69ed79",
       "version_major": 2,
       "version_minor": 0
      },
      "text/plain": [
       "Sanity Checking: |          | 0/? [00:00<?, ?it/s]"
      ]
     },
     "metadata": {},
     "output_type": "display_data"
    },
    {
     "data": {
      "application/vnd.jupyter.widget-view+json": {
       "model_id": "e14434cc90be4a42aebf9704334b969f",
       "version_major": 2,
       "version_minor": 0
      },
      "text/plain": [
       "Training: |          | 0/? [00:00<?, ?it/s]"
      ]
     },
     "metadata": {},
     "output_type": "display_data"
    },
    {
     "data": {
      "application/vnd.jupyter.widget-view+json": {
       "model_id": "9c1c43941f354189bc681bd577d50898",
       "version_major": 2,
       "version_minor": 0
      },
      "text/plain": [
       "Validation: |          | 0/? [00:00<?, ?it/s]"
      ]
     },
     "metadata": {},
     "output_type": "display_data"
    },
    {
     "data": {
      "application/vnd.jupyter.widget-view+json": {
       "model_id": "e387d0f056184ef58010eebbf9c3e29b",
       "version_major": 2,
       "version_minor": 0
      },
      "text/plain": [
       "Validation: |          | 0/? [00:00<?, ?it/s]"
      ]
     },
     "metadata": {},
     "output_type": "display_data"
    },
    {
     "data": {
      "application/vnd.jupyter.widget-view+json": {
       "model_id": "712550d7cf9a4a398cb2e99b86412d74",
       "version_major": 2,
       "version_minor": 0
      },
      "text/plain": [
       "Validation: |          | 0/? [00:00<?, ?it/s]"
      ]
     },
     "metadata": {},
     "output_type": "display_data"
    },
    {
     "data": {
      "application/vnd.jupyter.widget-view+json": {
       "model_id": "90108b2607c54a8c886354ac64820e12",
       "version_major": 2,
       "version_minor": 0
      },
      "text/plain": [
       "Validation: |          | 0/? [00:00<?, ?it/s]"
      ]
     },
     "metadata": {},
     "output_type": "display_data"
    },
    {
     "data": {
      "application/vnd.jupyter.widget-view+json": {
       "model_id": "855775ad37814984a83295017e822976",
       "version_major": 2,
       "version_minor": 0
      },
      "text/plain": [
       "Validation: |          | 0/? [00:00<?, ?it/s]"
      ]
     },
     "metadata": {},
     "output_type": "display_data"
    },
    {
     "data": {
      "application/vnd.jupyter.widget-view+json": {
       "model_id": "816448bb6cc944ac88ed83d7dea390fb",
       "version_major": 2,
       "version_minor": 0
      },
      "text/plain": [
       "Validation: |          | 0/? [00:00<?, ?it/s]"
      ]
     },
     "metadata": {},
     "output_type": "display_data"
    },
    {
     "name": "stderr",
     "output_type": "stream",
     "text": [
      "Trainer already configured with model summary callbacks: [<class 'pytorch_lightning.callbacks.model_summary.ModelSummary'>]. Skipping setting a default `ModelSummary` callback.\n",
      "GPU available: False, used: False\n",
      "TPU available: False, using: 0 TPU cores\n",
      "IPU available: False, using: 0 IPUs\n",
      "HPU available: False, using: 0 HPUs\n"
     ]
    },
    {
     "data": {
      "application/vnd.jupyter.widget-view+json": {
       "model_id": "82aa15938aea499ab0bacf76e9ab18b7",
       "version_major": 2,
       "version_minor": 0
      },
      "text/plain": [
       "Predicting: |          | 0/? [00:00<?, ?it/s]"
      ]
     },
     "metadata": {},
     "output_type": "display_data"
    },
    {
     "name": "stderr",
     "output_type": "stream",
     "text": [
      "[I 2025-07-12 09:55:58,739] Trial 0 finished with value: 0.16666666666666666 and parameters: {'input_size': 81, 'dropout_prob': 0.15000000000000002, 'max_steps': 1276, 'learning_rate': 0.0032808792385517183, 'batch_size': 32, 'threshold': 0.38389082398515467}. Best is trial 0 with value: 0.16666666666666666.\n",
      "Seed set to 42\n",
      "GPU available: False, used: False\n",
      "TPU available: False, using: 0 TPU cores\n",
      "IPU available: False, using: 0 IPUs\n",
      "HPU available: False, using: 0 HPUs\n",
      "\n",
      "  | Name         | Type             | Params\n",
      "--------------------------------------------------\n",
      "0 | loss         | DistributionLoss | 5     \n",
      "1 | padder_train | ConstantPad1d    | 0     \n",
      "2 | scaler       | TemporalNorm     | 0     \n",
      "3 | blocks       | ModuleList       | 5.9 M \n",
      "--------------------------------------------------\n",
      "5.9 M     Trainable params\n",
      "8.9 K     Non-trainable params\n",
      "5.9 M     Total params\n",
      "23.798    Total estimated model params size (MB)\n"
     ]
    },
    {
     "name": "stdout",
     "output_type": "stream",
     "text": [
      "Trial 0: Score=0.1667, Threshold=0.38, Params={'input_size': 81, 'dropout_prob': 0.15000000000000002, 'max_steps': 1276, 'learning_rate': 0.0032808792385517183, 'batch_size': 32, 'threshold': 0.38389082398515467}\n"
     ]
    },
    {
     "data": {
      "application/vnd.jupyter.widget-view+json": {
       "model_id": "adc33d71481a4ba28d89161928179c61",
       "version_major": 2,
       "version_minor": 0
      },
      "text/plain": [
       "Sanity Checking: |          | 0/? [00:00<?, ?it/s]"
      ]
     },
     "metadata": {},
     "output_type": "display_data"
    },
    {
     "data": {
      "application/vnd.jupyter.widget-view+json": {
       "model_id": "41c8b38326f04f58b3449dd5138d9bcf",
       "version_major": 2,
       "version_minor": 0
      },
      "text/plain": [
       "Training: |          | 0/? [00:00<?, ?it/s]"
      ]
     },
     "metadata": {},
     "output_type": "display_data"
    },
    {
     "data": {
      "application/vnd.jupyter.widget-view+json": {
       "model_id": "454f01061dab46a7b2205338aa71be77",
       "version_major": 2,
       "version_minor": 0
      },
      "text/plain": [
       "Validation: |          | 0/? [00:00<?, ?it/s]"
      ]
     },
     "metadata": {},
     "output_type": "display_data"
    },
    {
     "data": {
      "application/vnd.jupyter.widget-view+json": {
       "model_id": "a48ce6b1a2d44a23a188b77a5f2b155e",
       "version_major": 2,
       "version_minor": 0
      },
      "text/plain": [
       "Validation: |          | 0/? [00:00<?, ?it/s]"
      ]
     },
     "metadata": {},
     "output_type": "display_data"
    },
    {
     "data": {
      "application/vnd.jupyter.widget-view+json": {
       "model_id": "cf831b51bc524efa9be3fc7630606298",
       "version_major": 2,
       "version_minor": 0
      },
      "text/plain": [
       "Validation: |          | 0/? [00:00<?, ?it/s]"
      ]
     },
     "metadata": {},
     "output_type": "display_data"
    },
    {
     "data": {
      "application/vnd.jupyter.widget-view+json": {
       "model_id": "a7361899027e4b2db81ac39ab84077ef",
       "version_major": 2,
       "version_minor": 0
      },
      "text/plain": [
       "Validation: |          | 0/? [00:00<?, ?it/s]"
      ]
     },
     "metadata": {},
     "output_type": "display_data"
    },
    {
     "data": {
      "application/vnd.jupyter.widget-view+json": {
       "model_id": "c80febeb79a8430abebfb27c518fb42c",
       "version_major": 2,
       "version_minor": 0
      },
      "text/plain": [
       "Validation: |          | 0/? [00:00<?, ?it/s]"
      ]
     },
     "metadata": {},
     "output_type": "display_data"
    },
    {
     "data": {
      "application/vnd.jupyter.widget-view+json": {
       "model_id": "91975356de8348b38bbfd7dd0c9f1012",
       "version_major": 2,
       "version_minor": 0
      },
      "text/plain": [
       "Validation: |          | 0/? [00:00<?, ?it/s]"
      ]
     },
     "metadata": {},
     "output_type": "display_data"
    },
    {
     "data": {
      "application/vnd.jupyter.widget-view+json": {
       "model_id": "25a40c108aab444d9deeef575736afca",
       "version_major": 2,
       "version_minor": 0
      },
      "text/plain": [
       "Validation: |          | 0/? [00:00<?, ?it/s]"
      ]
     },
     "metadata": {},
     "output_type": "display_data"
    },
    {
     "name": "stderr",
     "output_type": "stream",
     "text": [
      "Trainer already configured with model summary callbacks: [<class 'pytorch_lightning.callbacks.model_summary.ModelSummary'>]. Skipping setting a default `ModelSummary` callback.\n",
      "GPU available: False, used: False\n",
      "TPU available: False, using: 0 TPU cores\n",
      "IPU available: False, using: 0 IPUs\n",
      "HPU available: False, using: 0 HPUs\n"
     ]
    },
    {
     "data": {
      "application/vnd.jupyter.widget-view+json": {
       "model_id": "050e8a5797c3429c86f8d2d9ed787f9d",
       "version_major": 2,
       "version_minor": 0
      },
      "text/plain": [
       "Predicting: |          | 0/? [00:00<?, ?it/s]"
      ]
     },
     "metadata": {},
     "output_type": "display_data"
    },
    {
     "name": "stderr",
     "output_type": "stream",
     "text": [
      "[I 2025-07-12 09:56:29,028] Trial 1 finished with value: 0.18888888888888888 and parameters: {'input_size': 116, 'dropout_prob': 0.0, 'max_steps': 1031, 'learning_rate': 0.0011797454154877348, 'batch_size': 32, 'threshold': 0.2924885535779225}. Best is trial 1 with value: 0.18888888888888888.\n",
      "Seed set to 42\n",
      "GPU available: False, used: False\n",
      "TPU available: False, using: 0 TPU cores\n",
      "IPU available: False, using: 0 IPUs\n",
      "HPU available: False, using: 0 HPUs\n",
      "\n",
      "  | Name         | Type             | Params\n",
      "--------------------------------------------------\n",
      "0 | loss         | DistributionLoss | 5     \n",
      "1 | padder_train | ConstantPad1d    | 0     \n",
      "2 | scaler       | TemporalNorm     | 0     \n",
      "3 | blocks       | ModuleList       | 7.9 M \n",
      "--------------------------------------------------\n",
      "7.9 M     Trainable params\n",
      "13.2 K    Non-trainable params\n",
      "7.9 M     Total params\n",
      "31.700    Total estimated model params size (MB)\n"
     ]
    },
    {
     "name": "stdout",
     "output_type": "stream",
     "text": [
      "Trial 1: Score=0.1889, Threshold=0.29, Params={'input_size': 116, 'dropout_prob': 0.0, 'max_steps': 1031, 'learning_rate': 0.0011797454154877348, 'batch_size': 32, 'threshold': 0.2924885535779225}\n"
     ]
    },
    {
     "data": {
      "application/vnd.jupyter.widget-view+json": {
       "model_id": "b10d73d038974cf7b0a1d8ca1f9ec560",
       "version_major": 2,
       "version_minor": 0
      },
      "text/plain": [
       "Sanity Checking: |          | 0/? [00:00<?, ?it/s]"
      ]
     },
     "metadata": {},
     "output_type": "display_data"
    },
    {
     "data": {
      "application/vnd.jupyter.widget-view+json": {
       "model_id": "7cb765c1fa744f30864d0d4e860160b1",
       "version_major": 2,
       "version_minor": 0
      },
      "text/plain": [
       "Training: |          | 0/? [00:00<?, ?it/s]"
      ]
     },
     "metadata": {},
     "output_type": "display_data"
    },
    {
     "data": {
      "application/vnd.jupyter.widget-view+json": {
       "model_id": "6ba4d514870743748e74d7a272bde237",
       "version_major": 2,
       "version_minor": 0
      },
      "text/plain": [
       "Validation: |          | 0/? [00:00<?, ?it/s]"
      ]
     },
     "metadata": {},
     "output_type": "display_data"
    },
    {
     "data": {
      "application/vnd.jupyter.widget-view+json": {
       "model_id": "d01cb6571a9943519c0dac8bf16748ad",
       "version_major": 2,
       "version_minor": 0
      },
      "text/plain": [
       "Validation: |          | 0/? [00:00<?, ?it/s]"
      ]
     },
     "metadata": {},
     "output_type": "display_data"
    },
    {
     "data": {
      "application/vnd.jupyter.widget-view+json": {
       "model_id": "3d46c66962884adb9917e0d1f4232cc2",
       "version_major": 2,
       "version_minor": 0
      },
      "text/plain": [
       "Validation: |          | 0/? [00:00<?, ?it/s]"
      ]
     },
     "metadata": {},
     "output_type": "display_data"
    },
    {
     "data": {
      "application/vnd.jupyter.widget-view+json": {
       "model_id": "54349e2bd4f24bca88578a85729421d3",
       "version_major": 2,
       "version_minor": 0
      },
      "text/plain": [
       "Validation: |          | 0/? [00:00<?, ?it/s]"
      ]
     },
     "metadata": {},
     "output_type": "display_data"
    },
    {
     "data": {
      "application/vnd.jupyter.widget-view+json": {
       "model_id": "6065172b55ee46f0ab72614fdf90b370",
       "version_major": 2,
       "version_minor": 0
      },
      "text/plain": [
       "Validation: |          | 0/? [00:00<?, ?it/s]"
      ]
     },
     "metadata": {},
     "output_type": "display_data"
    },
    {
     "data": {
      "application/vnd.jupyter.widget-view+json": {
       "model_id": "5b91e7aa96824a1ea0d51c452311c21d",
       "version_major": 2,
       "version_minor": 0
      },
      "text/plain": [
       "Validation: |          | 0/? [00:00<?, ?it/s]"
      ]
     },
     "metadata": {},
     "output_type": "display_data"
    },
    {
     "name": "stderr",
     "output_type": "stream",
     "text": [
      "Trainer already configured with model summary callbacks: [<class 'pytorch_lightning.callbacks.model_summary.ModelSummary'>]. Skipping setting a default `ModelSummary` callback.\n",
      "GPU available: False, used: False\n",
      "TPU available: False, using: 0 TPU cores\n",
      "IPU available: False, using: 0 IPUs\n",
      "HPU available: False, using: 0 HPUs\n"
     ]
    },
    {
     "data": {
      "application/vnd.jupyter.widget-view+json": {
       "model_id": "e0b1e4105eee4e6095acfff0714e9879",
       "version_major": 2,
       "version_minor": 0
      },
      "text/plain": [
       "Predicting: |          | 0/? [00:00<?, ?it/s]"
      ]
     },
     "metadata": {},
     "output_type": "display_data"
    },
    {
     "name": "stderr",
     "output_type": "stream",
     "text": [
      "[I 2025-07-12 09:57:02,147] Trial 2 finished with value: 0.16666666666666666 and parameters: {'input_size': 186, 'dropout_prob': 0.15000000000000002, 'max_steps': 1147, 'learning_rate': 0.0047275795273552445, 'batch_size': 16, 'threshold': 0.40526961588603894}. Best is trial 1 with value: 0.18888888888888888.\n",
      "Seed set to 42\n",
      "GPU available: False, used: False\n",
      "TPU available: False, using: 0 TPU cores\n",
      "IPU available: False, using: 0 IPUs\n",
      "HPU available: False, using: 0 HPUs\n",
      "\n",
      "  | Name         | Type             | Params\n",
      "--------------------------------------------------\n",
      "0 | loss         | DistributionLoss | 5     \n",
      "1 | padder_train | ConstantPad1d    | 0     \n",
      "2 | scaler       | TemporalNorm     | 0     \n",
      "3 | blocks       | ModuleList       | 7.5 M \n",
      "--------------------------------------------------\n",
      "7.5 M     Trainable params\n",
      "12.3 K    Non-trainable params\n",
      "7.5 M     Total params\n",
      "30.119    Total estimated model params size (MB)\n"
     ]
    },
    {
     "name": "stdout",
     "output_type": "stream",
     "text": [
      "Trial 2: Score=0.1667, Threshold=0.41, Params={'input_size': 186, 'dropout_prob': 0.15000000000000002, 'max_steps': 1147, 'learning_rate': 0.0047275795273552445, 'batch_size': 16, 'threshold': 0.40526961588603894}\n"
     ]
    },
    {
     "data": {
      "application/vnd.jupyter.widget-view+json": {
       "model_id": "de58abc974d2406d811a1e2d4cd4ab08",
       "version_major": 2,
       "version_minor": 0
      },
      "text/plain": [
       "Sanity Checking: |          | 0/? [00:00<?, ?it/s]"
      ]
     },
     "metadata": {},
     "output_type": "display_data"
    },
    {
     "data": {
      "application/vnd.jupyter.widget-view+json": {
       "model_id": "9fbc7faa807e4c1d8f549aa550ff0223",
       "version_major": 2,
       "version_minor": 0
      },
      "text/plain": [
       "Training: |          | 0/? [00:00<?, ?it/s]"
      ]
     },
     "metadata": {},
     "output_type": "display_data"
    },
    {
     "data": {
      "application/vnd.jupyter.widget-view+json": {
       "model_id": "5fc0806e12b343609848d75f7ec27339",
       "version_major": 2,
       "version_minor": 0
      },
      "text/plain": [
       "Validation: |          | 0/? [00:00<?, ?it/s]"
      ]
     },
     "metadata": {},
     "output_type": "display_data"
    },
    {
     "data": {
      "application/vnd.jupyter.widget-view+json": {
       "model_id": "7f42f0fb244f41af87d9afb228cc3ba3",
       "version_major": 2,
       "version_minor": 0
      },
      "text/plain": [
       "Validation: |          | 0/? [00:00<?, ?it/s]"
      ]
     },
     "metadata": {},
     "output_type": "display_data"
    },
    {
     "data": {
      "application/vnd.jupyter.widget-view+json": {
       "model_id": "9684b3c2f7eb4c65a3555ef582f35e50",
       "version_major": 2,
       "version_minor": 0
      },
      "text/plain": [
       "Validation: |          | 0/? [00:00<?, ?it/s]"
      ]
     },
     "metadata": {},
     "output_type": "display_data"
    },
    {
     "data": {
      "application/vnd.jupyter.widget-view+json": {
       "model_id": "467d5d833dff455c96312c4de8a6af10",
       "version_major": 2,
       "version_minor": 0
      },
      "text/plain": [
       "Validation: |          | 0/? [00:00<?, ?it/s]"
      ]
     },
     "metadata": {},
     "output_type": "display_data"
    },
    {
     "data": {
      "application/vnd.jupyter.widget-view+json": {
       "model_id": "ca872769484f43d38fd055edceff8117",
       "version_major": 2,
       "version_minor": 0
      },
      "text/plain": [
       "Validation: |          | 0/? [00:00<?, ?it/s]"
      ]
     },
     "metadata": {},
     "output_type": "display_data"
    },
    {
     "data": {
      "application/vnd.jupyter.widget-view+json": {
       "model_id": "a3e2f6b5fc4f4e46ab389692a35bb9fe",
       "version_major": 2,
       "version_minor": 0
      },
      "text/plain": [
       "Validation: |          | 0/? [00:00<?, ?it/s]"
      ]
     },
     "metadata": {},
     "output_type": "display_data"
    },
    {
     "name": "stderr",
     "output_type": "stream",
     "text": [
      "Trainer already configured with model summary callbacks: [<class 'pytorch_lightning.callbacks.model_summary.ModelSummary'>]. Skipping setting a default `ModelSummary` callback.\n",
      "GPU available: False, used: False\n",
      "TPU available: False, using: 0 TPU cores\n",
      "IPU available: False, using: 0 IPUs\n",
      "HPU available: False, using: 0 HPUs\n"
     ]
    },
    {
     "data": {
      "application/vnd.jupyter.widget-view+json": {
       "model_id": "708db49622e0404fb00c4c3057e624b6",
       "version_major": 2,
       "version_minor": 0
      },
      "text/plain": [
       "Predicting: |          | 0/? [00:00<?, ?it/s]"
      ]
     },
     "metadata": {},
     "output_type": "display_data"
    },
    {
     "name": "stderr",
     "output_type": "stream",
     "text": [
      "[I 2025-07-12 09:57:36,365] Trial 3 finished with value: 0.3 and parameters: {'input_size': 172, 'dropout_prob': 0.1, 'max_steps': 903, 'learning_rate': 0.000725015699742226, 'batch_size': 32, 'threshold': 0.5010382763946011}. Best is trial 3 with value: 0.3.\n",
      "Seed set to 42\n",
      "GPU available: False, used: False\n",
      "TPU available: False, using: 0 TPU cores\n",
      "IPU available: False, using: 0 IPUs\n",
      "HPU available: False, using: 0 HPUs\n",
      "\n",
      "  | Name         | Type             | Params\n",
      "--------------------------------------------------\n",
      "0 | loss         | DistributionLoss | 5     \n",
      "1 | padder_train | ConstantPad1d    | 0     \n",
      "2 | scaler       | TemporalNorm     | 0     \n",
      "3 | blocks       | ModuleList       | 6.0 M \n",
      "--------------------------------------------------\n",
      "6.0 M     Trainable params\n",
      "9.0 K     Non-trainable params\n",
      "6.0 M     Total params\n",
      "23.910    Total estimated model params size (MB)\n"
     ]
    },
    {
     "name": "stdout",
     "output_type": "stream",
     "text": [
      "Trial 3: Score=0.3000, Threshold=0.50, Params={'input_size': 172, 'dropout_prob': 0.1, 'max_steps': 903, 'learning_rate': 0.000725015699742226, 'batch_size': 32, 'threshold': 0.5010382763946011}\n"
     ]
    },
    {
     "data": {
      "application/vnd.jupyter.widget-view+json": {
       "model_id": "97101446f8974ad6916075c5b2ff106a",
       "version_major": 2,
       "version_minor": 0
      },
      "text/plain": [
       "Sanity Checking: |          | 0/? [00:00<?, ?it/s]"
      ]
     },
     "metadata": {},
     "output_type": "display_data"
    },
    {
     "data": {
      "application/vnd.jupyter.widget-view+json": {
       "model_id": "4aaeaa00ee7148fbaca3d41b00271072",
       "version_major": 2,
       "version_minor": 0
      },
      "text/plain": [
       "Training: |          | 0/? [00:00<?, ?it/s]"
      ]
     },
     "metadata": {},
     "output_type": "display_data"
    },
    {
     "data": {
      "application/vnd.jupyter.widget-view+json": {
       "model_id": "d2ae3197c55e4dc7bb10b1f4690e18a8",
       "version_major": 2,
       "version_minor": 0
      },
      "text/plain": [
       "Validation: |          | 0/? [00:00<?, ?it/s]"
      ]
     },
     "metadata": {},
     "output_type": "display_data"
    },
    {
     "data": {
      "application/vnd.jupyter.widget-view+json": {
       "model_id": "701dce6d100549a9a79b367ae0840d39",
       "version_major": 2,
       "version_minor": 0
      },
      "text/plain": [
       "Validation: |          | 0/? [00:00<?, ?it/s]"
      ]
     },
     "metadata": {},
     "output_type": "display_data"
    },
    {
     "data": {
      "application/vnd.jupyter.widget-view+json": {
       "model_id": "b9fc66a5da2549a2a4c887f5fbd9e7e2",
       "version_major": 2,
       "version_minor": 0
      },
      "text/plain": [
       "Validation: |          | 0/? [00:00<?, ?it/s]"
      ]
     },
     "metadata": {},
     "output_type": "display_data"
    },
    {
     "data": {
      "application/vnd.jupyter.widget-view+json": {
       "model_id": "480fd5539f064b0483ed7b4342384a68",
       "version_major": 2,
       "version_minor": 0
      },
      "text/plain": [
       "Validation: |          | 0/? [00:00<?, ?it/s]"
      ]
     },
     "metadata": {},
     "output_type": "display_data"
    },
    {
     "data": {
      "application/vnd.jupyter.widget-view+json": {
       "model_id": "5832c6dbdee447a198e6c6f771d6bfd3",
       "version_major": 2,
       "version_minor": 0
      },
      "text/plain": [
       "Validation: |          | 0/? [00:00<?, ?it/s]"
      ]
     },
     "metadata": {},
     "output_type": "display_data"
    },
    {
     "data": {
      "application/vnd.jupyter.widget-view+json": {
       "model_id": "39196e0e43fe4620a5a4aef91c880680",
       "version_major": 2,
       "version_minor": 0
      },
      "text/plain": [
       "Validation: |          | 0/? [00:00<?, ?it/s]"
      ]
     },
     "metadata": {},
     "output_type": "display_data"
    },
    {
     "name": "stderr",
     "output_type": "stream",
     "text": [
      "Trainer already configured with model summary callbacks: [<class 'pytorch_lightning.callbacks.model_summary.ModelSummary'>]. Skipping setting a default `ModelSummary` callback.\n",
      "GPU available: False, used: False\n",
      "TPU available: False, using: 0 TPU cores\n",
      "IPU available: False, using: 0 IPUs\n",
      "HPU available: False, using: 0 HPUs\n"
     ]
    },
    {
     "data": {
      "application/vnd.jupyter.widget-view+json": {
       "model_id": "39f10ef31bab4bf3b43f3f9f31135904",
       "version_major": 2,
       "version_minor": 0
      },
      "text/plain": [
       "Predicting: |          | 0/? [00:00<?, ?it/s]"
      ]
     },
     "metadata": {},
     "output_type": "display_data"
    },
    {
     "name": "stderr",
     "output_type": "stream",
     "text": [
      "[I 2025-07-12 09:58:05,209] Trial 4 finished with value: 0.18 and parameters: {'input_size': 117, 'dropout_prob': 0.05, 'max_steps': 1354, 'learning_rate': 0.00016780788582624326, 'batch_size': 16, 'threshold': 0.5559116756582805}. Best is trial 3 with value: 0.3.\n",
      "Seed set to 42\n",
      "GPU available: False, used: False\n",
      "TPU available: False, using: 0 TPU cores\n",
      "IPU available: False, using: 0 IPUs\n",
      "HPU available: False, using: 0 HPUs\n",
      "\n",
      "  | Name         | Type             | Params\n",
      "--------------------------------------------------\n",
      "0 | loss         | DistributionLoss | 5     \n",
      "1 | padder_train | ConstantPad1d    | 0     \n",
      "2 | scaler       | TemporalNorm     | 0     \n",
      "3 | blocks       | ModuleList       | 7.5 M \n",
      "--------------------------------------------------\n",
      "7.5 M     Trainable params\n",
      "12.3 K    Non-trainable params\n",
      "7.5 M     Total params\n",
      "30.119    Total estimated model params size (MB)\n"
     ]
    },
    {
     "name": "stdout",
     "output_type": "stream",
     "text": [
      "Trial 4: Score=0.1800, Threshold=0.56, Params={'input_size': 117, 'dropout_prob': 0.05, 'max_steps': 1354, 'learning_rate': 0.00016780788582624326, 'batch_size': 16, 'threshold': 0.5559116756582805}\n"
     ]
    },
    {
     "data": {
      "application/vnd.jupyter.widget-view+json": {
       "model_id": "2e4c57da6e324040ac87c3f74fedb132",
       "version_major": 2,
       "version_minor": 0
      },
      "text/plain": [
       "Sanity Checking: |          | 0/? [00:00<?, ?it/s]"
      ]
     },
     "metadata": {},
     "output_type": "display_data"
    },
    {
     "data": {
      "application/vnd.jupyter.widget-view+json": {
       "model_id": "6ec38373dccb48a6b1669d52df839015",
       "version_major": 2,
       "version_minor": 0
      },
      "text/plain": [
       "Training: |          | 0/? [00:00<?, ?it/s]"
      ]
     },
     "metadata": {},
     "output_type": "display_data"
    },
    {
     "data": {
      "application/vnd.jupyter.widget-view+json": {
       "model_id": "6258c46824274ccd827d4ecb717b453e",
       "version_major": 2,
       "version_minor": 0
      },
      "text/plain": [
       "Validation: |          | 0/? [00:00<?, ?it/s]"
      ]
     },
     "metadata": {},
     "output_type": "display_data"
    },
    {
     "data": {
      "application/vnd.jupyter.widget-view+json": {
       "model_id": "52ae2b45581145d3a5677b8de6ac53cd",
       "version_major": 2,
       "version_minor": 0
      },
      "text/plain": [
       "Validation: |          | 0/? [00:00<?, ?it/s]"
      ]
     },
     "metadata": {},
     "output_type": "display_data"
    },
    {
     "data": {
      "application/vnd.jupyter.widget-view+json": {
       "model_id": "a285a25b66d647a8a2a6113fbcaa3036",
       "version_major": 2,
       "version_minor": 0
      },
      "text/plain": [
       "Validation: |          | 0/? [00:00<?, ?it/s]"
      ]
     },
     "metadata": {},
     "output_type": "display_data"
    },
    {
     "data": {
      "application/vnd.jupyter.widget-view+json": {
       "model_id": "61dbeed79fb14eb6ba195ea7fa59a96e",
       "version_major": 2,
       "version_minor": 0
      },
      "text/plain": [
       "Validation: |          | 0/? [00:00<?, ?it/s]"
      ]
     },
     "metadata": {},
     "output_type": "display_data"
    },
    {
     "data": {
      "application/vnd.jupyter.widget-view+json": {
       "model_id": "953937800a194f119f64b9854844cf06",
       "version_major": 2,
       "version_minor": 0
      },
      "text/plain": [
       "Validation: |          | 0/? [00:00<?, ?it/s]"
      ]
     },
     "metadata": {},
     "output_type": "display_data"
    },
    {
     "data": {
      "application/vnd.jupyter.widget-view+json": {
       "model_id": "9421edda177c4fc79bdc0b3431e14674",
       "version_major": 2,
       "version_minor": 0
      },
      "text/plain": [
       "Validation: |          | 0/? [00:00<?, ?it/s]"
      ]
     },
     "metadata": {},
     "output_type": "display_data"
    },
    {
     "name": "stderr",
     "output_type": "stream",
     "text": [
      "Trainer already configured with model summary callbacks: [<class 'pytorch_lightning.callbacks.model_summary.ModelSummary'>]. Skipping setting a default `ModelSummary` callback.\n",
      "GPU available: False, used: False\n",
      "TPU available: False, using: 0 TPU cores\n",
      "IPU available: False, using: 0 IPUs\n",
      "HPU available: False, using: 0 HPUs\n"
     ]
    },
    {
     "data": {
      "application/vnd.jupyter.widget-view+json": {
       "model_id": "91808449a2a541d6bbcba129e323bdb6",
       "version_major": 2,
       "version_minor": 0
      },
      "text/plain": [
       "Predicting: |          | 0/? [00:00<?, ?it/s]"
      ]
     },
     "metadata": {},
     "output_type": "display_data"
    },
    {
     "name": "stderr",
     "output_type": "stream",
     "text": [
      "[I 2025-07-12 09:58:39,540] Trial 5 finished with value: 0.33333333333333337 and parameters: {'input_size': 172, 'dropout_prob': 0.1, 'max_steps': 508, 'learning_rate': 0.00012029893236909243, 'batch_size': 16, 'threshold': 0.5545753259869556}. Best is trial 5 with value: 0.33333333333333337.\n",
      "Seed set to 42\n",
      "GPU available: False, used: False\n",
      "TPU available: False, using: 0 TPU cores\n",
      "IPU available: False, using: 0 IPUs\n",
      "HPU available: False, using: 0 HPUs\n",
      "\n",
      "  | Name         | Type             | Params\n",
      "--------------------------------------------------\n",
      "0 | loss         | DistributionLoss | 5     \n",
      "1 | padder_train | ConstantPad1d    | 0     \n",
      "2 | scaler       | TemporalNorm     | 0     \n",
      "3 | blocks       | ModuleList       | 7.0 M \n",
      "--------------------------------------------------\n",
      "7.0 M     Trainable params\n",
      "11.1 K    Non-trainable params\n",
      "7.0 M     Total params\n",
      "27.862    Total estimated model params size (MB)\n"
     ]
    },
    {
     "name": "stdout",
     "output_type": "stream",
     "text": [
      "Trial 5: Score=0.3333, Threshold=0.55, Params={'input_size': 172, 'dropout_prob': 0.1, 'max_steps': 508, 'learning_rate': 0.00012029893236909243, 'batch_size': 16, 'threshold': 0.5545753259869556}\n"
     ]
    },
    {
     "data": {
      "application/vnd.jupyter.widget-view+json": {
       "model_id": "97032cd6cb4a4c6a95173ba8811f0437",
       "version_major": 2,
       "version_minor": 0
      },
      "text/plain": [
       "Sanity Checking: |          | 0/? [00:00<?, ?it/s]"
      ]
     },
     "metadata": {},
     "output_type": "display_data"
    },
    {
     "data": {
      "application/vnd.jupyter.widget-view+json": {
       "model_id": "d4d3d1703da34483ab93a9a711c5fd5a",
       "version_major": 2,
       "version_minor": 0
      },
      "text/plain": [
       "Training: |          | 0/? [00:00<?, ?it/s]"
      ]
     },
     "metadata": {},
     "output_type": "display_data"
    },
    {
     "data": {
      "application/vnd.jupyter.widget-view+json": {
       "model_id": "7a6dce7c160b4a9bb12f7e19540dc88c",
       "version_major": 2,
       "version_minor": 0
      },
      "text/plain": [
       "Validation: |          | 0/? [00:00<?, ?it/s]"
      ]
     },
     "metadata": {},
     "output_type": "display_data"
    },
    {
     "data": {
      "application/vnd.jupyter.widget-view+json": {
       "model_id": "443901025910491585a609e75ecc0c5f",
       "version_major": 2,
       "version_minor": 0
      },
      "text/plain": [
       "Validation: |          | 0/? [00:00<?, ?it/s]"
      ]
     },
     "metadata": {},
     "output_type": "display_data"
    },
    {
     "data": {
      "application/vnd.jupyter.widget-view+json": {
       "model_id": "db032cabd1ab4afb9fe86a6705714a03",
       "version_major": 2,
       "version_minor": 0
      },
      "text/plain": [
       "Validation: |          | 0/? [00:00<?, ?it/s]"
      ]
     },
     "metadata": {},
     "output_type": "display_data"
    },
    {
     "data": {
      "application/vnd.jupyter.widget-view+json": {
       "model_id": "8fe872207c6a4569972113bef8e35602",
       "version_major": 2,
       "version_minor": 0
      },
      "text/plain": [
       "Validation: |          | 0/? [00:00<?, ?it/s]"
      ]
     },
     "metadata": {},
     "output_type": "display_data"
    },
    {
     "data": {
      "application/vnd.jupyter.widget-view+json": {
       "model_id": "ab30669fb8e14af7a5e1c8f58bd75420",
       "version_major": 2,
       "version_minor": 0
      },
      "text/plain": [
       "Validation: |          | 0/? [00:00<?, ?it/s]"
      ]
     },
     "metadata": {},
     "output_type": "display_data"
    },
    {
     "data": {
      "application/vnd.jupyter.widget-view+json": {
       "model_id": "5d44fe819897429590a5119bb7a2a1e7",
       "version_major": 2,
       "version_minor": 0
      },
      "text/plain": [
       "Validation: |          | 0/? [00:00<?, ?it/s]"
      ]
     },
     "metadata": {},
     "output_type": "display_data"
    },
    {
     "name": "stderr",
     "output_type": "stream",
     "text": [
      "Trainer already configured with model summary callbacks: [<class 'pytorch_lightning.callbacks.model_summary.ModelSummary'>]. Skipping setting a default `ModelSummary` callback.\n",
      "GPU available: False, used: False\n",
      "TPU available: False, using: 0 TPU cores\n",
      "IPU available: False, using: 0 IPUs\n",
      "HPU available: False, using: 0 HPUs\n"
     ]
    },
    {
     "data": {
      "application/vnd.jupyter.widget-view+json": {
       "model_id": "5782b82ca54e442f9d2d2d902f0523f8",
       "version_major": 2,
       "version_minor": 0
      },
      "text/plain": [
       "Predicting: |          | 0/? [00:00<?, ?it/s]"
      ]
     },
     "metadata": {},
     "output_type": "display_data"
    },
    {
     "name": "stderr",
     "output_type": "stream",
     "text": [
      "[I 2025-07-12 09:59:12,249] Trial 6 finished with value: 0.23333333333333334 and parameters: {'input_size': 152, 'dropout_prob': 0.15000000000000002, 'max_steps': 573, 'learning_rate': 0.0003271017177613692, 'batch_size': 32, 'threshold': 0.33503424544341875}. Best is trial 5 with value: 0.33333333333333337.\n",
      "Seed set to 42\n",
      "GPU available: False, used: False\n",
      "TPU available: False, using: 0 TPU cores\n",
      "IPU available: False, using: 0 IPUs\n",
      "HPU available: False, using: 0 HPUs\n",
      "\n",
      "  | Name         | Type             | Params\n",
      "--------------------------------------------------\n",
      "0 | loss         | DistributionLoss | 5     \n",
      "1 | padder_train | ConstantPad1d    | 0     \n",
      "2 | scaler       | TemporalNorm     | 0     \n",
      "3 | blocks       | ModuleList       | 7.6 M \n",
      "--------------------------------------------------\n",
      "7.5 M     Trainable params\n",
      "12.4 K    Non-trainable params\n",
      "7.6 M     Total params\n",
      "30.232    Total estimated model params size (MB)\n"
     ]
    },
    {
     "name": "stdout",
     "output_type": "stream",
     "text": [
      "Trial 6: Score=0.2333, Threshold=0.34, Params={'input_size': 152, 'dropout_prob': 0.15000000000000002, 'max_steps': 573, 'learning_rate': 0.0003271017177613692, 'batch_size': 32, 'threshold': 0.33503424544341875}\n"
     ]
    },
    {
     "data": {
      "application/vnd.jupyter.widget-view+json": {
       "model_id": "1641207573a345c69222b468715a203d",
       "version_major": 2,
       "version_minor": 0
      },
      "text/plain": [
       "Sanity Checking: |          | 0/? [00:00<?, ?it/s]"
      ]
     },
     "metadata": {},
     "output_type": "display_data"
    },
    {
     "data": {
      "application/vnd.jupyter.widget-view+json": {
       "model_id": "e904b83926ee4126ba005dfe7049310f",
       "version_major": 2,
       "version_minor": 0
      },
      "text/plain": [
       "Training: |          | 0/? [00:00<?, ?it/s]"
      ]
     },
     "metadata": {},
     "output_type": "display_data"
    },
    {
     "data": {
      "application/vnd.jupyter.widget-view+json": {
       "model_id": "ca37c4f453344215889cc2f38e486ff3",
       "version_major": 2,
       "version_minor": 0
      },
      "text/plain": [
       "Validation: |          | 0/? [00:00<?, ?it/s]"
      ]
     },
     "metadata": {},
     "output_type": "display_data"
    },
    {
     "data": {
      "application/vnd.jupyter.widget-view+json": {
       "model_id": "e4debbeaf08d41efb370ce90bebbfaad",
       "version_major": 2,
       "version_minor": 0
      },
      "text/plain": [
       "Validation: |          | 0/? [00:00<?, ?it/s]"
      ]
     },
     "metadata": {},
     "output_type": "display_data"
    },
    {
     "data": {
      "application/vnd.jupyter.widget-view+json": {
       "model_id": "aa7673a2cc7e4ef192ff5593f9d0a17b",
       "version_major": 2,
       "version_minor": 0
      },
      "text/plain": [
       "Validation: |          | 0/? [00:00<?, ?it/s]"
      ]
     },
     "metadata": {},
     "output_type": "display_data"
    },
    {
     "data": {
      "application/vnd.jupyter.widget-view+json": {
       "model_id": "391dddaf741f4087bebcb22a5423e29d",
       "version_major": 2,
       "version_minor": 0
      },
      "text/plain": [
       "Validation: |          | 0/? [00:00<?, ?it/s]"
      ]
     },
     "metadata": {},
     "output_type": "display_data"
    },
    {
     "data": {
      "application/vnd.jupyter.widget-view+json": {
       "model_id": "570ee9e0661c4bd5b926bac068b95917",
       "version_major": 2,
       "version_minor": 0
      },
      "text/plain": [
       "Validation: |          | 0/? [00:00<?, ?it/s]"
      ]
     },
     "metadata": {},
     "output_type": "display_data"
    },
    {
     "data": {
      "application/vnd.jupyter.widget-view+json": {
       "model_id": "32d2ff1809cd4ac1bfb20e2c4d013dfa",
       "version_major": 2,
       "version_minor": 0
      },
      "text/plain": [
       "Validation: |          | 0/? [00:00<?, ?it/s]"
      ]
     },
     "metadata": {},
     "output_type": "display_data"
    },
    {
     "name": "stderr",
     "output_type": "stream",
     "text": [
      "Trainer already configured with model summary callbacks: [<class 'pytorch_lightning.callbacks.model_summary.ModelSummary'>]. Skipping setting a default `ModelSummary` callback.\n",
      "GPU available: False, used: False\n",
      "TPU available: False, using: 0 TPU cores\n",
      "IPU available: False, using: 0 IPUs\n",
      "HPU available: False, using: 0 HPUs\n"
     ]
    },
    {
     "data": {
      "application/vnd.jupyter.widget-view+json": {
       "model_id": "6608744d974a44988abb11892ea18256",
       "version_major": 2,
       "version_minor": 0
      },
      "text/plain": [
       "Predicting: |          | 0/? [00:00<?, ?it/s]"
      ]
     },
     "metadata": {},
     "output_type": "display_data"
    },
    {
     "name": "stderr",
     "output_type": "stream",
     "text": [
      "[I 2025-07-12 09:59:42,783] Trial 7 finished with value: 0.2 and parameters: {'input_size': 173, 'dropout_prob': 0.3, 'max_steps': 821, 'learning_rate': 0.00022645953642442968, 'batch_size': 64, 'threshold': 0.5648516247811043}. Best is trial 5 with value: 0.33333333333333337.\n",
      "Seed set to 42\n",
      "GPU available: False, used: False\n",
      "TPU available: False, using: 0 TPU cores\n",
      "IPU available: False, using: 0 IPUs\n",
      "HPU available: False, using: 0 HPUs\n",
      "\n",
      "  | Name         | Type             | Params\n",
      "--------------------------------------------------\n",
      "0 | loss         | DistributionLoss | 5     \n",
      "1 | padder_train | ConstantPad1d    | 0     \n",
      "2 | scaler       | TemporalNorm     | 0     \n",
      "3 | blocks       | ModuleList       | 6.0 M \n",
      "--------------------------------------------------\n",
      "6.0 M     Trainable params\n",
      "9.0 K     Non-trainable params\n",
      "6.0 M     Total params\n",
      "24.023    Total estimated model params size (MB)\n"
     ]
    },
    {
     "name": "stdout",
     "output_type": "stream",
     "text": [
      "Trial 7: Score=0.2000, Threshold=0.56, Params={'input_size': 173, 'dropout_prob': 0.3, 'max_steps': 821, 'learning_rate': 0.00022645953642442968, 'batch_size': 64, 'threshold': 0.5648516247811043}\n"
     ]
    },
    {
     "data": {
      "application/vnd.jupyter.widget-view+json": {
       "model_id": "e1b817ffc45243b486360e4fb7e095db",
       "version_major": 2,
       "version_minor": 0
      },
      "text/plain": [
       "Sanity Checking: |          | 0/? [00:00<?, ?it/s]"
      ]
     },
     "metadata": {},
     "output_type": "display_data"
    },
    {
     "data": {
      "application/vnd.jupyter.widget-view+json": {
       "model_id": "c78d7d1a47e34a26b54d906d93174b7c",
       "version_major": 2,
       "version_minor": 0
      },
      "text/plain": [
       "Training: |          | 0/? [00:00<?, ?it/s]"
      ]
     },
     "metadata": {},
     "output_type": "display_data"
    },
    {
     "data": {
      "application/vnd.jupyter.widget-view+json": {
       "model_id": "a65c7eb4cfb04f369c87f0fa03d4c895",
       "version_major": 2,
       "version_minor": 0
      },
      "text/plain": [
       "Validation: |          | 0/? [00:00<?, ?it/s]"
      ]
     },
     "metadata": {},
     "output_type": "display_data"
    },
    {
     "data": {
      "application/vnd.jupyter.widget-view+json": {
       "model_id": "0d63c2342450449d9b100a5d57d38a4d",
       "version_major": 2,
       "version_minor": 0
      },
      "text/plain": [
       "Validation: |          | 0/? [00:00<?, ?it/s]"
      ]
     },
     "metadata": {},
     "output_type": "display_data"
    },
    {
     "data": {
      "application/vnd.jupyter.widget-view+json": {
       "model_id": "863b66d8032f450899a656126eda9c51",
       "version_major": 2,
       "version_minor": 0
      },
      "text/plain": [
       "Validation: |          | 0/? [00:00<?, ?it/s]"
      ]
     },
     "metadata": {},
     "output_type": "display_data"
    },
    {
     "data": {
      "application/vnd.jupyter.widget-view+json": {
       "model_id": "b6d524bf4dc642a89528e8f68ac1b13e",
       "version_major": 2,
       "version_minor": 0
      },
      "text/plain": [
       "Validation: |          | 0/? [00:00<?, ?it/s]"
      ]
     },
     "metadata": {},
     "output_type": "display_data"
    },
    {
     "data": {
      "application/vnd.jupyter.widget-view+json": {
       "model_id": "d9b6c729b71441728349420fdc2dc2f1",
       "version_major": 2,
       "version_minor": 0
      },
      "text/plain": [
       "Validation: |          | 0/? [00:00<?, ?it/s]"
      ]
     },
     "metadata": {},
     "output_type": "display_data"
    },
    {
     "data": {
      "application/vnd.jupyter.widget-view+json": {
       "model_id": "025afcf7282642988098dd7c1fc0c15e",
       "version_major": 2,
       "version_minor": 0
      },
      "text/plain": [
       "Validation: |          | 0/? [00:00<?, ?it/s]"
      ]
     },
     "metadata": {},
     "output_type": "display_data"
    },
    {
     "name": "stderr",
     "output_type": "stream",
     "text": [
      "Trainer already configured with model summary callbacks: [<class 'pytorch_lightning.callbacks.model_summary.ModelSummary'>]. Skipping setting a default `ModelSummary` callback.\n",
      "GPU available: False, used: False\n",
      "TPU available: False, using: 0 TPU cores\n",
      "IPU available: False, using: 0 IPUs\n",
      "HPU available: False, using: 0 HPUs\n"
     ]
    },
    {
     "data": {
      "application/vnd.jupyter.widget-view+json": {
       "model_id": "6803e2636dd0459cb2e90463f0c8a3a0",
       "version_major": 2,
       "version_minor": 0
      },
      "text/plain": [
       "Predicting: |          | 0/? [00:00<?, ?it/s]"
      ]
     },
     "metadata": {},
     "output_type": "display_data"
    },
    {
     "name": "stderr",
     "output_type": "stream",
     "text": [
      "[I 2025-07-12 10:00:30,177] Trial 8 finished with value: 0.2 and parameters: {'input_size': 118, 'dropout_prob': 0.0, 'max_steps': 736, 'learning_rate': 0.00019197264843774526, 'batch_size': 16, 'threshold': 0.4958807437112992}. Best is trial 5 with value: 0.33333333333333337.\n",
      "Seed set to 42\n",
      "GPU available: False, used: False\n"
     ]
    },
    {
     "name": "stdout",
     "output_type": "stream",
     "text": [
      "Trial 8: Score=0.2000, Threshold=0.50, Params={'input_size': 118, 'dropout_prob': 0.0, 'max_steps': 736, 'learning_rate': 0.00019197264843774526, 'batch_size': 16, 'threshold': 0.4958807437112992}\n"
     ]
    },
    {
     "name": "stderr",
     "output_type": "stream",
     "text": [
      "TPU available: False, using: 0 TPU cores\n",
      "IPU available: False, using: 0 IPUs\n",
      "HPU available: False, using: 0 HPUs\n",
      "\n",
      "  | Name         | Type             | Params\n",
      "--------------------------------------------------\n",
      "0 | loss         | DistributionLoss | 5     \n",
      "1 | padder_train | ConstantPad1d    | 0     \n",
      "2 | scaler       | TemporalNorm     | 0     \n",
      "3 | blocks       | ModuleList       | 7.9 M \n",
      "--------------------------------------------------\n",
      "7.9 M     Trainable params\n",
      "13.1 K    Non-trainable params\n",
      "7.9 M     Total params\n",
      "31.474    Total estimated model params size (MB)\n"
     ]
    },
    {
     "data": {
      "application/vnd.jupyter.widget-view+json": {
       "model_id": "3e03f449ad3e40339e7d8a74200b008f",
       "version_major": 2,
       "version_minor": 0
      },
      "text/plain": [
       "Sanity Checking: |          | 0/? [00:00<?, ?it/s]"
      ]
     },
     "metadata": {},
     "output_type": "display_data"
    },
    {
     "data": {
      "application/vnd.jupyter.widget-view+json": {
       "model_id": "37017bed8e90432e8a1a6ede42f17114",
       "version_major": 2,
       "version_minor": 0
      },
      "text/plain": [
       "Training: |          | 0/? [00:00<?, ?it/s]"
      ]
     },
     "metadata": {},
     "output_type": "display_data"
    },
    {
     "data": {
      "application/vnd.jupyter.widget-view+json": {
       "model_id": "e113683578fe4c42bb638e7fd4c9396f",
       "version_major": 2,
       "version_minor": 0
      },
      "text/plain": [
       "Validation: |          | 0/? [00:00<?, ?it/s]"
      ]
     },
     "metadata": {},
     "output_type": "display_data"
    },
    {
     "data": {
      "application/vnd.jupyter.widget-view+json": {
       "model_id": "8f154c84915041e98a13ab460521736f",
       "version_major": 2,
       "version_minor": 0
      },
      "text/plain": [
       "Validation: |          | 0/? [00:00<?, ?it/s]"
      ]
     },
     "metadata": {},
     "output_type": "display_data"
    },
    {
     "data": {
      "application/vnd.jupyter.widget-view+json": {
       "model_id": "b709941de48646b2b9d0eb4ca779dc28",
       "version_major": 2,
       "version_minor": 0
      },
      "text/plain": [
       "Validation: |          | 0/? [00:00<?, ?it/s]"
      ]
     },
     "metadata": {},
     "output_type": "display_data"
    },
    {
     "data": {
      "application/vnd.jupyter.widget-view+json": {
       "model_id": "607aad1457d64965b6200b18f37aba2d",
       "version_major": 2,
       "version_minor": 0
      },
      "text/plain": [
       "Validation: |          | 0/? [00:00<?, ?it/s]"
      ]
     },
     "metadata": {},
     "output_type": "display_data"
    },
    {
     "data": {
      "application/vnd.jupyter.widget-view+json": {
       "model_id": "49a430f2eeb44e698964b1cc52a20e45",
       "version_major": 2,
       "version_minor": 0
      },
      "text/plain": [
       "Validation: |          | 0/? [00:00<?, ?it/s]"
      ]
     },
     "metadata": {},
     "output_type": "display_data"
    },
    {
     "data": {
      "application/vnd.jupyter.widget-view+json": {
       "model_id": "2ca05a86c5944e4898e0412841d705ca",
       "version_major": 2,
       "version_minor": 0
      },
      "text/plain": [
       "Validation: |          | 0/? [00:00<?, ?it/s]"
      ]
     },
     "metadata": {},
     "output_type": "display_data"
    },
    {
     "data": {
      "application/vnd.jupyter.widget-view+json": {
       "model_id": "3c8ae57cd3ce46ef8a20bf0e3f630117",
       "version_major": 2,
       "version_minor": 0
      },
      "text/plain": [
       "Validation: |          | 0/? [00:00<?, ?it/s]"
      ]
     },
     "metadata": {},
     "output_type": "display_data"
    },
    {
     "data": {
      "application/vnd.jupyter.widget-view+json": {
       "model_id": "dd7f2ade3e89433596feb08c3e212feb",
       "version_major": 2,
       "version_minor": 0
      },
      "text/plain": [
       "Validation: |          | 0/? [00:00<?, ?it/s]"
      ]
     },
     "metadata": {},
     "output_type": "display_data"
    },
    {
     "data": {
      "application/vnd.jupyter.widget-view+json": {
       "model_id": "d533ade64a8548ac82d88c84dd46159e",
       "version_major": 2,
       "version_minor": 0
      },
      "text/plain": [
       "Validation: |          | 0/? [00:00<?, ?it/s]"
      ]
     },
     "metadata": {},
     "output_type": "display_data"
    },
    {
     "data": {
      "application/vnd.jupyter.widget-view+json": {
       "model_id": "479f72f90f4e4b24bbc685a242351465",
       "version_major": 2,
       "version_minor": 0
      },
      "text/plain": [
       "Validation: |          | 0/? [00:00<?, ?it/s]"
      ]
     },
     "metadata": {},
     "output_type": "display_data"
    },
    {
     "data": {
      "application/vnd.jupyter.widget-view+json": {
       "model_id": "ee4136fe525f4ad1bc7f546b172f5482",
       "version_major": 2,
       "version_minor": 0
      },
      "text/plain": [
       "Validation: |          | 0/? [00:00<?, ?it/s]"
      ]
     },
     "metadata": {},
     "output_type": "display_data"
    },
    {
     "data": {
      "application/vnd.jupyter.widget-view+json": {
       "model_id": "675b89727a024ced89cf0766d6c87644",
       "version_major": 2,
       "version_minor": 0
      },
      "text/plain": [
       "Validation: |          | 0/? [00:00<?, ?it/s]"
      ]
     },
     "metadata": {},
     "output_type": "display_data"
    },
    {
     "data": {
      "application/vnd.jupyter.widget-view+json": {
       "model_id": "9685554c8215426787b0bc44387c51e8",
       "version_major": 2,
       "version_minor": 0
      },
      "text/plain": [
       "Validation: |          | 0/? [00:00<?, ?it/s]"
      ]
     },
     "metadata": {},
     "output_type": "display_data"
    },
    {
     "data": {
      "application/vnd.jupyter.widget-view+json": {
       "model_id": "a4b69d1a71a3479388d47d553f31f1c5",
       "version_major": 2,
       "version_minor": 0
      },
      "text/plain": [
       "Validation: |          | 0/? [00:00<?, ?it/s]"
      ]
     },
     "metadata": {},
     "output_type": "display_data"
    },
    {
     "data": {
      "application/vnd.jupyter.widget-view+json": {
       "model_id": "0c5e590763974b17836cc9db9d931c39",
       "version_major": 2,
       "version_minor": 0
      },
      "text/plain": [
       "Validation: |          | 0/? [00:00<?, ?it/s]"
      ]
     },
     "metadata": {},
     "output_type": "display_data"
    },
    {
     "data": {
      "application/vnd.jupyter.widget-view+json": {
       "model_id": "591337f35d3e459790fbcfa8bef8acfe",
       "version_major": 2,
       "version_minor": 0
      },
      "text/plain": [
       "Validation: |          | 0/? [00:00<?, ?it/s]"
      ]
     },
     "metadata": {},
     "output_type": "display_data"
    },
    {
     "data": {
      "application/vnd.jupyter.widget-view+json": {
       "model_id": "3057c100dad74b3096d84105cb572bdd",
       "version_major": 2,
       "version_minor": 0
      },
      "text/plain": [
       "Validation: |          | 0/? [00:00<?, ?it/s]"
      ]
     },
     "metadata": {},
     "output_type": "display_data"
    },
    {
     "name": "stderr",
     "output_type": "stream",
     "text": [
      "Trainer already configured with model summary callbacks: [<class 'pytorch_lightning.callbacks.model_summary.ModelSummary'>]. Skipping setting a default `ModelSummary` callback.\n",
      "GPU available: False, used: False\n",
      "TPU available: False, using: 0 TPU cores\n",
      "IPU available: False, using: 0 IPUs\n",
      "HPU available: False, using: 0 HPUs\n"
     ]
    },
    {
     "data": {
      "application/vnd.jupyter.widget-view+json": {
       "model_id": "673968fa4ba94e2a8f87a988335957c7",
       "version_major": 2,
       "version_minor": 0
      },
      "text/plain": [
       "Predicting: |          | 0/? [00:00<?, ?it/s]"
      ]
     },
     "metadata": {},
     "output_type": "display_data"
    },
    {
     "name": "stderr",
     "output_type": "stream",
     "text": [
      "[I 2025-07-12 10:02:43,830] Trial 9 finished with value: 0.17333333333333334 and parameters: {'input_size': 184, 'dropout_prob': 0.1, 'max_steps': 1251, 'learning_rate': 0.00014524984505039364, 'batch_size': 16, 'threshold': 0.5783926872421646}. Best is trial 5 with value: 0.33333333333333337.\n"
     ]
    },
    {
     "name": "stdout",
     "output_type": "stream",
     "text": [
      "Trial 9: Score=0.1733, Threshold=0.58, Params={'input_size': 184, 'dropout_prob': 0.1, 'max_steps': 1251, 'learning_rate': 0.00014524984505039364, 'batch_size': 16, 'threshold': 0.5783926872421646}\n",
      "Best parameters: {'input_size': 172, 'dropout_prob': 0.1, 'max_steps': 508, 'learning_rate': 0.00012029893236909243, 'batch_size': 16, 'threshold': 0.5545753259869556}\n"
     ]
    },
    {
     "ename": "KeyError",
     "evalue": "'Denormalized_Forecast'",
     "output_type": "error",
     "traceback": [
      "\u001b[1;31m---------------------------------------------------------------------------\u001b[0m",
      "\u001b[1;31mKeyError\u001b[0m                                  Traceback (most recent call last)",
      "File \u001b[1;32mc:\\Users\\ASUS TUF\\AppData\\Local\\Programs\\Python\\Python312\\Lib\\site-packages\\pandas\\core\\indexes\\base.py:3805\u001b[0m, in \u001b[0;36mIndex.get_loc\u001b[1;34m(self, key)\u001b[0m\n\u001b[0;32m   3804\u001b[0m \u001b[38;5;28;01mtry\u001b[39;00m:\n\u001b[1;32m-> 3805\u001b[0m     \u001b[38;5;28;01mreturn\u001b[39;00m \u001b[38;5;28;43mself\u001b[39;49m\u001b[38;5;241;43m.\u001b[39;49m\u001b[43m_engine\u001b[49m\u001b[38;5;241;43m.\u001b[39;49m\u001b[43mget_loc\u001b[49m\u001b[43m(\u001b[49m\u001b[43mcasted_key\u001b[49m\u001b[43m)\u001b[49m\n\u001b[0;32m   3806\u001b[0m \u001b[38;5;28;01mexcept\u001b[39;00m \u001b[38;5;167;01mKeyError\u001b[39;00m \u001b[38;5;28;01mas\u001b[39;00m err:\n",
      "File \u001b[1;32mindex.pyx:167\u001b[0m, in \u001b[0;36mpandas._libs.index.IndexEngine.get_loc\u001b[1;34m()\u001b[0m\n",
      "File \u001b[1;32mindex.pyx:196\u001b[0m, in \u001b[0;36mpandas._libs.index.IndexEngine.get_loc\u001b[1;34m()\u001b[0m\n",
      "File \u001b[1;32mpandas\\\\_libs\\\\hashtable_class_helper.pxi:7081\u001b[0m, in \u001b[0;36mpandas._libs.hashtable.PyObjectHashTable.get_item\u001b[1;34m()\u001b[0m\n",
      "File \u001b[1;32mpandas\\\\_libs\\\\hashtable_class_helper.pxi:7089\u001b[0m, in \u001b[0;36mpandas._libs.hashtable.PyObjectHashTable.get_item\u001b[1;34m()\u001b[0m\n",
      "\u001b[1;31mKeyError\u001b[0m: 'Denormalized_Forecast'",
      "\nThe above exception was the direct cause of the following exception:\n",
      "\u001b[1;31mKeyError\u001b[0m                                  Traceback (most recent call last)",
      "Cell \u001b[1;32mIn[4], line 20\u001b[0m\n\u001b[0;32m     12\u001b[0m \u001b[38;5;66;03m# Run pipeline\u001b[39;00m\n\u001b[0;32m     13\u001b[0m best_params \u001b[38;5;241m=\u001b[39m tune_binary_model(\n\u001b[0;32m     14\u001b[0m     df\u001b[38;5;241m=\u001b[39mdf, \n\u001b[0;32m     15\u001b[0m     horizon\u001b[38;5;241m=\u001b[39m\u001b[38;5;241m30\u001b[39m, \n\u001b[0;32m     16\u001b[0m     n_trials\u001b[38;5;241m=\u001b[39m\u001b[38;5;241m10\u001b[39m, \n\u001b[0;32m     17\u001b[0m     score_metric\u001b[38;5;241m=\u001b[39m\u001b[38;5;124m'\u001b[39m\u001b[38;5;124maverage_precision\u001b[39m\u001b[38;5;124m'\u001b[39m\n\u001b[0;32m     18\u001b[0m )\n\u001b[1;32m---> 20\u001b[0m predictions \u001b[38;5;241m=\u001b[39m \u001b[43mtrain_and_predict_binary_model\u001b[49m\u001b[43m(\u001b[49m\n\u001b[0;32m     21\u001b[0m \u001b[43m    \u001b[49m\u001b[43mdf\u001b[49m\u001b[38;5;241;43m=\u001b[39;49m\u001b[43mdf\u001b[49m\u001b[43m,\u001b[49m\n\u001b[0;32m     22\u001b[0m \u001b[43m    \u001b[49m\u001b[43mbalance_pred_df\u001b[49m\u001b[38;5;241;43m=\u001b[39;49m\u001b[43mbalance_df\u001b[49m\u001b[43m,\u001b[49m\n\u001b[0;32m     23\u001b[0m \u001b[43m    \u001b[49m\u001b[43mbest_params\u001b[49m\u001b[38;5;241;43m=\u001b[39;49m\u001b[43mbest_params\u001b[49m\u001b[43m,\u001b[49m\n\u001b[0;32m     24\u001b[0m \u001b[43m    \u001b[49m\u001b[43mhorizon\u001b[49m\u001b[38;5;241;43m=\u001b[39;49m\u001b[38;5;241;43m30\u001b[39;49m\n\u001b[0;32m     25\u001b[0m \u001b[43m\u001b[49m\u001b[43m)\u001b[49m\n\u001b[0;32m     27\u001b[0m \u001b[38;5;28mprint\u001b[39m(predictions\u001b[38;5;241m.\u001b[39mhead())\n",
      "Cell \u001b[1;32mIn[3], line 55\u001b[0m, in \u001b[0;36mtrain_and_predict_binary_model\u001b[1;34m(df, balance_pred_df, best_params, horizon)\u001b[0m\n\u001b[0;32m     53\u001b[0m train_df \u001b[38;5;241m=\u001b[39m df[:\u001b[38;5;241m-\u001b[39mhorizon]\u001b[38;5;241m.\u001b[39mcopy()\n\u001b[0;32m     54\u001b[0m \u001b[38;5;66;03m##train_df = df.copy()\u001b[39;00m\n\u001b[1;32m---> 55\u001b[0m future_exog_df \u001b[38;5;241m=\u001b[39m \u001b[43mcreate_future_features\u001b[49m\u001b[43m(\u001b[49m\u001b[43mtrain_df\u001b[49m\u001b[43m,\u001b[49m\u001b[43mbalance_pred_df\u001b[49m\u001b[43m)\u001b[49m\n\u001b[0;32m     57\u001b[0m \u001b[38;5;66;03m#define future and past features columns\u001b[39;00m\n\u001b[0;32m     58\u001b[0m \u001b[38;5;66;03m#hist_exog_vars= historical features\u001b[39;00m\n\u001b[0;32m     59\u001b[0m \u001b[38;5;66;03m#futr_exog_vars=future features\u001b[39;00m\n\u001b[0;32m     60\u001b[0m hist_exog_vars \u001b[38;5;241m=\u001b[39m [\n\u001b[0;32m     61\u001b[0m     \u001b[38;5;124m'\u001b[39m\u001b[38;5;124mpayment_count\u001b[39m\u001b[38;5;124m'\u001b[39m, \u001b[38;5;124m'\u001b[39m\u001b[38;5;124mdays_since_last_payment\u001b[39m\u001b[38;5;124m'\u001b[39m, \u001b[38;5;124m'\u001b[39m\u001b[38;5;124m7day_avg_payment\u001b[39m\u001b[38;5;124m'\u001b[39m, \u001b[38;5;124m'\u001b[39m\u001b[38;5;124m30day_avg_payment\u001b[39m\u001b[38;5;124m'\u001b[39m,\n\u001b[0;32m     62\u001b[0m     \u001b[38;5;124m'\u001b[39m\u001b[38;5;124mcumulative_avg_zero_days\u001b[39m\u001b[38;5;124m'\u001b[39m, \u001b[38;5;124m'\u001b[39m\u001b[38;5;124mnum_payments_from_start\u001b[39m\u001b[38;5;124m'\u001b[39m, \u001b[38;5;124m'\u001b[39m\u001b[38;5;124mpayment\u001b[39m\u001b[38;5;124m'\u001b[39m,\n\u001b[0;32m     63\u001b[0m     \u001b[38;5;124m'\u001b[39m\u001b[38;5;124mday_of_week_sin\u001b[39m\u001b[38;5;124m'\u001b[39m, \u001b[38;5;124m'\u001b[39m\u001b[38;5;124mday_of_week_cos\u001b[39m\u001b[38;5;124m'\u001b[39m, \u001b[38;5;124m'\u001b[39m\u001b[38;5;124mis_weekend\u001b[39m\u001b[38;5;124m'\u001b[39m, \n\u001b[0;32m     64\u001b[0m     \u001b[38;5;124m'\u001b[39m\u001b[38;5;124mbalance\u001b[39m\u001b[38;5;124m'\u001b[39m, \u001b[38;5;124m'\u001b[39m\u001b[38;5;124mbalance_changed\u001b[39m\u001b[38;5;124m'\u001b[39m]\n",
      "Cell \u001b[1;32mIn[3], line 28\u001b[0m, in \u001b[0;36mtrain_and_predict_binary_model.<locals>.create_future_features\u001b[1;34m(df, balance_pred_df)\u001b[0m\n\u001b[0;32m     26\u001b[0m balance_pred \u001b[38;5;241m=\u001b[39m balance_pred_df\u001b[38;5;241m.\u001b[39mcopy()\n\u001b[0;32m     27\u001b[0m balance_pred[\u001b[38;5;124m'\u001b[39m\u001b[38;5;124mds\u001b[39m\u001b[38;5;124m'\u001b[39m] \u001b[38;5;241m=\u001b[39m pd\u001b[38;5;241m.\u001b[39mto_datetime(balance_pred[\u001b[38;5;124m'\u001b[39m\u001b[38;5;124mds\u001b[39m\u001b[38;5;124m'\u001b[39m])\n\u001b[1;32m---> 28\u001b[0m min_v \u001b[38;5;241m=\u001b[39m \u001b[43mbalance_pred\u001b[49m\u001b[43m[\u001b[49m\u001b[38;5;124;43m'\u001b[39;49m\u001b[38;5;124;43mDenormalized_Forecast\u001b[39;49m\u001b[38;5;124;43m'\u001b[39;49m\u001b[43m]\u001b[49m\u001b[38;5;241m.\u001b[39mmin()\n\u001b[0;32m     29\u001b[0m max_v \u001b[38;5;241m=\u001b[39m balance_pred[\u001b[38;5;124m'\u001b[39m\u001b[38;5;124mDenormalized_Forecast\u001b[39m\u001b[38;5;124m'\u001b[39m]\u001b[38;5;241m.\u001b[39mmax()\n\u001b[0;32m     30\u001b[0m balance_pred[\u001b[38;5;124m'\u001b[39m\u001b[38;5;124mDenormalized_Forecast\u001b[39m\u001b[38;5;124m'\u001b[39m] \u001b[38;5;241m=\u001b[39m (balance_pred[\u001b[38;5;124m'\u001b[39m\u001b[38;5;124mDenormalized_Forecast\u001b[39m\u001b[38;5;124m'\u001b[39m] \u001b[38;5;241m-\u001b[39m min_v) \u001b[38;5;241m/\u001b[39m (max_v \u001b[38;5;241m-\u001b[39m min_v) \u001b[38;5;28;01mif\u001b[39;00m max_v \u001b[38;5;241m!=\u001b[39m min_v \u001b[38;5;28;01melse\u001b[39;00m \u001b[38;5;241m0\u001b[39m\n",
      "File \u001b[1;32mc:\\Users\\ASUS TUF\\AppData\\Local\\Programs\\Python\\Python312\\Lib\\site-packages\\pandas\\core\\frame.py:4102\u001b[0m, in \u001b[0;36mDataFrame.__getitem__\u001b[1;34m(self, key)\u001b[0m\n\u001b[0;32m   4100\u001b[0m \u001b[38;5;28;01mif\u001b[39;00m \u001b[38;5;28mself\u001b[39m\u001b[38;5;241m.\u001b[39mcolumns\u001b[38;5;241m.\u001b[39mnlevels \u001b[38;5;241m>\u001b[39m \u001b[38;5;241m1\u001b[39m:\n\u001b[0;32m   4101\u001b[0m     \u001b[38;5;28;01mreturn\u001b[39;00m \u001b[38;5;28mself\u001b[39m\u001b[38;5;241m.\u001b[39m_getitem_multilevel(key)\n\u001b[1;32m-> 4102\u001b[0m indexer \u001b[38;5;241m=\u001b[39m \u001b[38;5;28;43mself\u001b[39;49m\u001b[38;5;241;43m.\u001b[39;49m\u001b[43mcolumns\u001b[49m\u001b[38;5;241;43m.\u001b[39;49m\u001b[43mget_loc\u001b[49m\u001b[43m(\u001b[49m\u001b[43mkey\u001b[49m\u001b[43m)\u001b[49m\n\u001b[0;32m   4103\u001b[0m \u001b[38;5;28;01mif\u001b[39;00m is_integer(indexer):\n\u001b[0;32m   4104\u001b[0m     indexer \u001b[38;5;241m=\u001b[39m [indexer]\n",
      "File \u001b[1;32mc:\\Users\\ASUS TUF\\AppData\\Local\\Programs\\Python\\Python312\\Lib\\site-packages\\pandas\\core\\indexes\\base.py:3812\u001b[0m, in \u001b[0;36mIndex.get_loc\u001b[1;34m(self, key)\u001b[0m\n\u001b[0;32m   3807\u001b[0m     \u001b[38;5;28;01mif\u001b[39;00m \u001b[38;5;28misinstance\u001b[39m(casted_key, \u001b[38;5;28mslice\u001b[39m) \u001b[38;5;129;01mor\u001b[39;00m (\n\u001b[0;32m   3808\u001b[0m         \u001b[38;5;28misinstance\u001b[39m(casted_key, abc\u001b[38;5;241m.\u001b[39mIterable)\n\u001b[0;32m   3809\u001b[0m         \u001b[38;5;129;01mand\u001b[39;00m \u001b[38;5;28many\u001b[39m(\u001b[38;5;28misinstance\u001b[39m(x, \u001b[38;5;28mslice\u001b[39m) \u001b[38;5;28;01mfor\u001b[39;00m x \u001b[38;5;129;01min\u001b[39;00m casted_key)\n\u001b[0;32m   3810\u001b[0m     ):\n\u001b[0;32m   3811\u001b[0m         \u001b[38;5;28;01mraise\u001b[39;00m InvalidIndexError(key)\n\u001b[1;32m-> 3812\u001b[0m     \u001b[38;5;28;01mraise\u001b[39;00m \u001b[38;5;167;01mKeyError\u001b[39;00m(key) \u001b[38;5;28;01mfrom\u001b[39;00m \u001b[38;5;21;01merr\u001b[39;00m\n\u001b[0;32m   3813\u001b[0m \u001b[38;5;28;01mexcept\u001b[39;00m \u001b[38;5;167;01mTypeError\u001b[39;00m:\n\u001b[0;32m   3814\u001b[0m     \u001b[38;5;66;03m# If we have a listlike key, _check_indexing_error will raise\u001b[39;00m\n\u001b[0;32m   3815\u001b[0m     \u001b[38;5;66;03m#  InvalidIndexError. Otherwise we fall through and re-raise\u001b[39;00m\n\u001b[0;32m   3816\u001b[0m     \u001b[38;5;66;03m#  the TypeError.\u001b[39;00m\n\u001b[0;32m   3817\u001b[0m     \u001b[38;5;28mself\u001b[39m\u001b[38;5;241m.\u001b[39m_check_indexing_error(key)\n",
      "\u001b[1;31mKeyError\u001b[0m: 'Denormalized_Forecast'"
     ]
    }
   ],
   "source": [
    "if __name__ == \"__main__\":\n",
    "    # Load data\n",
    "    df = pd.read_excel('shihara_processed_data.xlsx')\n",
    "    balance_df = pd.read_excel('forecast.xlsx')\n",
    "    \n",
    "    # Ensure dates are parsed\n",
    "    df['date'] = pd.to_datetime(df['date'])\n",
    "\n",
    "    # Convert Day (1-based) to datetime starting from 2025-01-02\n",
    "    balance_df['ds'] = pd.to_datetime(\"2025-01-02\") + pd.to_timedelta(balance_df['Day'] - 1, unit='D')\n",
    "    \n",
    "    # Run pipeline\n",
    "    best_params = tune_binary_model(\n",
    "        df=df, \n",
    "        horizon=30, \n",
    "        n_trials=10, \n",
    "        score_metric='average_precision'\n",
    "    )\n",
    "    \n",
    "    predictions = train_and_predict_binary_model(\n",
    "        df=df,\n",
    "        balance_pred_df=balance_df,\n",
    "        best_params=best_params,\n",
    "        horizon=30\n",
    "    )\n",
    "    \n",
    "    print(predictions.head())\n"
   ]
  },
  {
   "cell_type": "code",
   "execution_count": 6,
   "id": "b2178f80",
   "metadata": {},
   "outputs": [
    {
     "name": "stderr",
     "output_type": "stream",
     "text": [
      "Seed set to 42\n",
      "GPU available: False, used: False\n",
      "TPU available: False, using: 0 TPU cores\n",
      "IPU available: False, using: 0 IPUs\n",
      "HPU available: False, using: 0 HPUs\n",
      "\n",
      "  | Name         | Type             | Params\n",
      "--------------------------------------------------\n",
      "0 | loss         | DistributionLoss | 5     \n",
      "1 | padder_train | ConstantPad1d    | 0     \n",
      "2 | scaler       | TemporalNorm     | 0     \n",
      "3 | blocks       | ModuleList       | 7.5 M \n",
      "--------------------------------------------------\n",
      "7.5 M     Trainable params\n",
      "12.3 K    Non-trainable params\n",
      "7.5 M     Total params\n",
      "30.119    Total estimated model params size (MB)\n"
     ]
    },
    {
     "data": {
      "application/vnd.jupyter.widget-view+json": {
       "model_id": "2682d7d8af064814a604d24886c9ced5",
       "version_major": 2,
       "version_minor": 0
      },
      "text/plain": [
       "Sanity Checking: |          | 0/? [00:00<?, ?it/s]"
      ]
     },
     "metadata": {},
     "output_type": "display_data"
    },
    {
     "data": {
      "application/vnd.jupyter.widget-view+json": {
       "model_id": "7530081bd5084a8384b8e29e32347906",
       "version_major": 2,
       "version_minor": 0
      },
      "text/plain": [
       "Training: |          | 0/? [00:00<?, ?it/s]"
      ]
     },
     "metadata": {},
     "output_type": "display_data"
    },
    {
     "data": {
      "application/vnd.jupyter.widget-view+json": {
       "model_id": "ab6d54b195dc40c49e10716cfc03fb86",
       "version_major": 2,
       "version_minor": 0
      },
      "text/plain": [
       "Validation: |          | 0/? [00:00<?, ?it/s]"
      ]
     },
     "metadata": {},
     "output_type": "display_data"
    },
    {
     "data": {
      "application/vnd.jupyter.widget-view+json": {
       "model_id": "915b820f2e5c45d2a6d24c2b508b7fc1",
       "version_major": 2,
       "version_minor": 0
      },
      "text/plain": [
       "Validation: |          | 0/? [00:00<?, ?it/s]"
      ]
     },
     "metadata": {},
     "output_type": "display_data"
    },
    {
     "data": {
      "application/vnd.jupyter.widget-view+json": {
       "model_id": "f1fadb3bd5084a95ad39a7c97dc6fcde",
       "version_major": 2,
       "version_minor": 0
      },
      "text/plain": [
       "Validation: |          | 0/? [00:00<?, ?it/s]"
      ]
     },
     "metadata": {},
     "output_type": "display_data"
    },
    {
     "data": {
      "application/vnd.jupyter.widget-view+json": {
       "model_id": "51ee2cbf53e143b5bf7dfcae80a054d7",
       "version_major": 2,
       "version_minor": 0
      },
      "text/plain": [
       "Validation: |          | 0/? [00:00<?, ?it/s]"
      ]
     },
     "metadata": {},
     "output_type": "display_data"
    },
    {
     "data": {
      "application/vnd.jupyter.widget-view+json": {
       "model_id": "a685c6f7023b43e685804fab642264cb",
       "version_major": 2,
       "version_minor": 0
      },
      "text/plain": [
       "Validation: |          | 0/? [00:00<?, ?it/s]"
      ]
     },
     "metadata": {},
     "output_type": "display_data"
    },
    {
     "data": {
      "application/vnd.jupyter.widget-view+json": {
       "model_id": "7eb24ec6b7864a049c189edbc3dd3dd5",
       "version_major": 2,
       "version_minor": 0
      },
      "text/plain": [
       "Validation: |          | 0/? [00:00<?, ?it/s]"
      ]
     },
     "metadata": {},
     "output_type": "display_data"
    },
    {
     "name": "stderr",
     "output_type": "stream",
     "text": [
      "Trainer already configured with model summary callbacks: [<class 'pytorch_lightning.callbacks.model_summary.ModelSummary'>]. Skipping setting a default `ModelSummary` callback.\n",
      "GPU available: False, used: False\n",
      "TPU available: False, using: 0 TPU cores\n",
      "IPU available: False, using: 0 IPUs\n",
      "HPU available: False, using: 0 HPUs\n"
     ]
    },
    {
     "data": {
      "application/vnd.jupyter.widget-view+json": {
       "model_id": "30eb4545ae324b91a7af4c0b51f8cc79",
       "version_major": 2,
       "version_minor": 0
      },
      "text/plain": [
       "Predicting: |          | 0/? [00:00<?, ?it/s]"
      ]
     },
     "metadata": {},
     "output_type": "display_data"
    },
    {
     "name": "stdout",
     "output_type": "stream",
     "text": [
      "[Threshold Tuning] Best threshold: 0.24, F1: 0.6957\n",
      "          ds  predicted_payment_occurence  predicted_occurence_probability  \\\n",
      "0 2024-12-04                            1                            0.261   \n",
      "1 2024-12-05                            0                            0.239   \n",
      "2 2024-12-06                            0                            0.105   \n",
      "3 2024-12-07                            0                            0.010   \n",
      "4 2024-12-08                            0                            0.004   \n",
      "\n",
      "   uncertainty_percent  \n",
      "0            52.200001  \n",
      "1            47.799999  \n",
      "2            20.999998  \n",
      "3             1.999998  \n",
      "4             0.800002  \n"
     ]
    }
   ],
   "source": [
    "predictions = train_and_predict_binary_model(\n",
    "        df=df,\n",
    "        balance_pred_df=balance_df,\n",
    "        best_params=best_params,\n",
    "        horizon=30\n",
    "    )\n",
    "    \n",
    "print(predictions.head())"
   ]
  },
  {
   "cell_type": "code",
   "execution_count": 7,
   "id": "bc3bc19f",
   "metadata": {},
   "outputs": [
    {
     "name": "stdout",
     "output_type": "stream",
     "text": [
      "Saved predictions to classification_results_shihara.xlsx\n"
     ]
    }
   ],
   "source": [
    "predictions.to_excel('classification_result_shiharadata.xlsx', index=False)\n",
    "print(\"Saved predictions to classification_results_shihara.xlsx\")"
   ]
  },
  {
   "cell_type": "code",
   "execution_count": 8,
   "id": "79ac4224",
   "metadata": {},
   "outputs": [
    {
     "name": "stdout",
     "output_type": "stream",
     "text": [
      "\n",
      "--- Model Evaluation Metrics ---\n",
      "F1 Score:       0.6957\n",
      "Precision:      0.8000\n",
      "Recall:         0.6154\n",
      "Accuracy:       0.7667\n",
      "ROC-AUC Score:  0.7714932126696834\n",
      "--------------------------------\n"
     ]
    }
   ],
   "source": [
    "from sklearn.metrics import f1_score, precision_score, recall_score, accuracy_score, roc_auc_score\n",
    "\n",
    "# Get actuals from the last 30 days (horizon)\n",
    "actuals_df = df.copy()\n",
    "actuals_df['ds'] = pd.to_datetime(actuals_df['date']) if 'date' in actuals_df.columns else actuals_df['ds']\n",
    "actuals_df = actuals_df.sort_values('ds')\n",
    "actuals_df = actuals_df[['ds', 'payment_made']].rename(columns={'payment_made': 'actual_payment_occurence'})\n",
    "actuals_df = actuals_df.tail(30)\n",
    "\n",
    "# Merge with predictions\n",
    "eval_df = predictions.merge(actuals_df, on='ds', how='inner')\n",
    "\n",
    "# Extract ground truth and predictions\n",
    "y_true = eval_df['actual_payment_occurence']\n",
    "y_pred = eval_df['predicted_payment_occurence']\n",
    "y_prob = eval_df['predicted_occurence_probability']\n",
    "\n",
    "# Compute metrics\n",
    "f1 = f1_score(y_true, y_pred, zero_division=0)\n",
    "precision = precision_score(y_true, y_pred, zero_division=0)\n",
    "recall = recall_score(y_true, y_pred, zero_division=0)\n",
    "accuracy = accuracy_score(y_true, y_pred)\n",
    "roc_auc = roc_auc_score(y_true, y_prob) if len(np.unique(y_true)) > 1 else 'Not Applicable (only one class present)'\n",
    "\n",
    "# Print results\n",
    "print(\"\\n--- Model Evaluation Metrics ---\")\n",
    "print(f\"F1 Score:       {f1:.4f}\")\n",
    "print(f\"Precision:      {precision:.4f}\")\n",
    "print(f\"Recall:         {recall:.4f}\")\n",
    "print(f\"Accuracy:       {accuracy:.4f}\")\n",
    "print(f\"ROC-AUC Score:  {roc_auc}\")\n",
    "print(\"--------------------------------\")"
   ]
  },
  {
   "cell_type": "code",
   "execution_count": 9,
   "id": "451b233f",
   "metadata": {},
   "outputs": [
    {
     "ename": "",
     "evalue": "",
     "output_type": "error",
     "traceback": [
      "\u001b[1;31mThe Kernel crashed while executing code in the current cell or a previous cell. \n",
      "\u001b[1;31mPlease review the code in the cell(s) to identify a possible cause of the failure. \n",
      "\u001b[1;31mClick <a href='https://aka.ms/vscodeJupyterKernelCrash'>here</a> for more info. \n",
      "\u001b[1;31mView Jupyter <a href='command:jupyter.viewOutput'>log</a> for further details."
     ]
    }
   ],
   "source": [
    "from sklearn.metrics import precision_recall_curve, roc_curve\n",
    "import matplotlib.pyplot as plt\n",
    "\n",
    "precision, recall, thresholds = precision_recall_curve(y_true, y_prob)\n",
    "plt.plot(thresholds, precision[:-1], label='Precision')\n",
    "plt.plot(thresholds, recall[:-1], label='Recall')\n",
    "plt.xlabel('Threshold')\n",
    "plt.ylabel('Score')\n",
    "plt.legend()\n",
    "plt.title(\"Precision-Recall vs Threshold\")\n",
    "plt.show()\n"
   ]
  },
  {
   "cell_type": "code",
   "execution_count": null,
   "id": "fa2410c1",
   "metadata": {},
   "outputs": [],
   "source": []
  }
 ],
 "metadata": {
  "kernelspec": {
   "display_name": "Python 3",
   "language": "python",
   "name": "python3"
  },
  "language_info": {
   "codemirror_mode": {
    "name": "ipython",
    "version": 3
   },
   "file_extension": ".py",
   "mimetype": "text/x-python",
   "name": "python",
   "nbconvert_exporter": "python",
   "pygments_lexer": "ipython3",
   "version": "3.12.2"
  }
 },
 "nbformat": 4,
 "nbformat_minor": 5
}
